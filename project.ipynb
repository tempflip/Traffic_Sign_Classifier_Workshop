{
 "cells": [
  {
   "cell_type": "markdown",
   "metadata": {},
   "source": [
    "# Loading the training data"
   ]
  },
  {
   "cell_type": "code",
   "execution_count": 92,
   "metadata": {
    "collapsed": false,
    "deletable": true,
    "editable": true
   },
   "outputs": [
    {
     "name": "stdout",
     "output_type": "stream",
     "text": [
      "Label names ['Speed limit (20km/h)', 'Speed limit (30km/h)', 'Speed limit (50km/h)', 'Speed limit (60km/h)', 'Speed limit (70km/h)', 'Speed limit (80km/h)', 'End of speed limit (80km/h)', 'Speed limit (100km/h)', 'Speed limit (120km/h)', 'No passing', 'No passing for vehicles over 3.5 metric tons', 'Right-of-way at the next intersection', 'Priority road', 'Yield', 'Stop', 'No vehicles', 'Vehicles over 3.5 metric tons prohibited', 'No entry', 'General caution', 'Dangerous curve to the left', 'Dangerous curve to the right', 'Double curve', 'Bumpy road', 'Slippery road', 'Road narrows on the right', 'Road work', 'Traffic signals', 'Pedestrians', 'Children crossing', 'Bicycles crossing', 'Beware of ice/snow', 'Wild animals crossing', 'End of all speed and passing limits', 'Turn right ahead', 'Turn left ahead', 'Ahead only', 'Go straight or right', 'Go straight or left', 'Keep right', 'Keep left', 'Roundabout mandatory', 'End of no passing', 'End of no passing by vehicles over 3.5 metric tons']\n",
      "\n",
      "\n",
      "Points in set: 39209\n"
     ]
    }
   ],
   "source": [
    "import pandas as pd\n",
    "import matplotlib.pyplot as plt\n",
    "import numpy as np\n",
    "from keras.models import Sequential\n",
    "from keras.layers.core import Dense, Activation, Flatten, Dropout, Lambda\n",
    "from keras.layers.convolutional import Convolution2D\n",
    "from keras.layers.pooling import MaxPooling2D\n",
    "from keras import backend as K\n",
    "from keras.models import load_model\n",
    "import tensorflow as tf\n",
    "from sklearn import preprocessing\n",
    "from skimage import exposure\n",
    "from os import listdir\n",
    "from scipy import misc\n",
    "import csv\n",
    "from math import *\n",
    "import random\n",
    "from ipywidgets import widgets\n",
    "from IPython.display import display\n",
    "from ipywidgets import *\n",
    "import json\n",
    "\n",
    "\n",
    "%matplotlib inline\n",
    "\n",
    "full_df = pd.DataFrame()\n",
    "\n",
    "PATH = 'GTSRB/Final_Training/Images'\n",
    "NORM_W = 32\n",
    "NORM_H = 32\n",
    "\n",
    "for label_dir in listdir(PATH):\n",
    "    try: label_dir.index('000')\n",
    "    except ValueError: continue\n",
    "    my_path = '{}/{}/'.format(PATH, label_dir)\n",
    "    df_csv = pd.read_csv('{}/GT-{}.csv'.format(my_path, label_dir), sep=';')\n",
    "    df_csv['Path'] = my_path\n",
    "    full_df = pd.concat([full_df, df_csv])\n",
    "    \n",
    "\n",
    "full_label_names = []\n",
    "with open('signnames.csv', 'r') as f:\n",
    "    reader = csv.reader(f)\n",
    "    for row in reader:\n",
    "        full_label_names.append(row[1])\n",
    "\n",
    "del full_label_names[0]\n",
    "\n",
    "print ('Label names', full_label_names)\n",
    "print ('\\n\\nPoints in set:', len(full_df))\n",
    "\n",
    "df, label_names = full_df, full_label_names"
   ]
  },
  {
   "cell_type": "markdown",
   "metadata": {},
   "source": [
    "# Reducing the set\n",
    "If you want to use the full set (43 type of signs), skip this cell."
   ]
  },
  {
   "cell_type": "code",
   "execution_count": 93,
   "metadata": {
    "collapsed": false,
    "deletable": true,
    "editable": true
   },
   "outputs": [
    {
     "name": "stderr",
     "output_type": "stream",
     "text": [
      "/Users/tempflip/.conda/envs/carnd/lib/python3.5/site-packages/ipykernel/__main__.py:9: SettingWithCopyWarning: \n",
      "A value is trying to be set on a copy of a slice from a DataFrame.\n",
      "Try using .loc[row_indexer,col_indexer] = value instead\n",
      "\n",
      "See the caveats in the documentation: http://pandas.pydata.org/pandas-docs/stable/indexing.html#indexing-view-versus-copy\n"
     ]
    },
    {
     "name": "stdout",
     "output_type": "stream",
     "text": [
      "class_id_set: [29, 33, 37, 28, 21]\n",
      "\n",
      "\n",
      "Signs: ['Bicycles crossing', 'Turn right ahead', 'Go straight or left', 'Children crossing', 'Double curve']\n"
     ]
    },
    {
     "data": {
      "image/png": "[encoded data removed]",
      "text/plain": [
       "<matplotlib.figure.Figure at 0x12453e400>"
      ]
     },
     "metadata": {},
     "output_type": "display_data"
    }
   ],
   "source": [
    "## This for reducing the set -- for test reasons\n",
    "\n",
    "\n",
    "def reduce_set(class_id_set):\n",
    "    tdf = pd.DataFrame()\n",
    "    t_label_names = []\n",
    "    for i, class_id in enumerate(class_id_set):\n",
    "        selected = full_df[full_df['ClassId'] == class_id]\n",
    "        selected['ClassId'] = i\n",
    "        tdf = pd.concat((tdf, selected))\n",
    "        t_label_names.append(full_label_names[class_id])\n",
    "    return tdf, t_label_names\n",
    "\n",
    "df_container = widgets.Text()\n",
    "label_names_container = widgets.Text()\n",
    "\n",
    "@interact(n=widgets.IntSlider(min=2, max=len(full_label_names),step=1,value=5, description=\"Reduce set to N type of signs\"))\n",
    "def set_size(n):\n",
    "    class_id_set = random.sample(range(len(full_label_names)), n)\n",
    "    df, label_names = reduce_set(class_id_set)\n",
    "    df_container.value = json.dumps(df.values.tolist()[:])\n",
    "    label_names_container.value = json.dumps(label_names)\n",
    "    \n",
    "    print (\"class_id_set:\", class_id_set )\n",
    "    print (\"\\n\\nSigns:\", label_names)\n",
    "    class_ids, count = np.unique(df['ClassId'].values, return_counts=True)\n",
    "    plt.bar(class_ids, count)\n",
    "    \n",
    "\n",
    "\n"
   ]
  },
  {
   "cell_type": "code",
   "execution_count": 94,
   "metadata": {
    "collapsed": false,
    "deletable": true,
    "editable": true
   },
   "outputs": [],
   "source": [
    "# this is a trick to get the text-field bound values back to the main dataframe and label_names list\n",
    "# from the slider in the previous cell\n",
    "#\n",
    "# If you don't run the previous cell, DON'T RUN IT\n",
    "df = pd.DataFrame(data = json.loads(df_container.value), columns = df.columns.values)\n",
    "label_names = json.loads(label_names_container.value)\n",
    "\n"
   ]
  },
  {
   "cell_type": "markdown",
   "metadata": {},
   "source": [
    "# Training and test sets\n",
    "A part of dataset is used to validation, so it's not used for training."
   ]
  },
  {
   "cell_type": "code",
   "execution_count": 95,
   "metadata": {
    "collapsed": false,
    "deletable": true,
    "editable": true
   },
   "outputs": [
    {
     "name": "stdout",
     "output_type": "stream",
     "text": [
      "Count of train set:  1631\n",
      "Count of test set:  408\n"
     ]
    }
   ],
   "source": [
    "# training and test sets\n",
    "# shuffling the samples\n",
    "df = df.sample(frac=1)\n",
    "\n",
    "TEST_PROP = 0.2\n",
    "\n",
    "train_set = df.iloc[0: floor(len(df)*(1-TEST_PROP))]\n",
    "test_set = df.iloc[floor(len(df) * (1-TEST_PROP)):]\n",
    "\n",
    "print ('Count of train set: ', len(train_set))\n",
    "print ('Count of test set: ', len(test_set))\n"
   ]
  },
  {
   "cell_type": "markdown",
   "metadata": {},
   "source": [
    "# Sample size adjustments\n",
    "\n",
    "The count of different traffic signs is not equal. We need no adjust this count, otherwise in our model the more frequent types will be over-represented.\n"
   ]
  },
  {
   "cell_type": "code",
   "execution_count": 96,
   "metadata": {
    "collapsed": false,
    "deletable": true,
    "editable": true
   },
   "outputs": [
    {
     "name": "stdout",
     "output_type": "stream",
     "text": [
      "Class 0 from 214 sampled to 2000\n",
      "Class 1 from 547 sampled to 2000\n",
      "Class 2 from 172 sampled to 2000\n",
      "Class 3 from 430 sampled to 2000\n",
      "Class 4 from 268 sampled to 2000\n",
      "Count of adjusted train set: 10000\n"
     ]
    }
   ],
   "source": [
    "# adjust item count in train set\n",
    "\n",
    "ADJUSTED_SAMPLE_NUM = 2000\n",
    "\n",
    "item_count = train_set['ClassId'].value_counts()\n",
    "adjusted_train_set = pd.DataFrame()\n",
    "\n",
    "for i in range(len(item_count)):\n",
    "    selected = train_set[train_set['ClassId'] == i]\n",
    "    print ('Class {} from {} sampled to {}'.format(i, len(selected), ADJUSTED_SAMPLE_NUM))\n",
    "    adjusted = selected.sample(n=ADJUSTED_SAMPLE_NUM, replace=True)    \n",
    "    adjusted_train_set = pd.concat((adjusted_train_set, adjusted))\n",
    "    \n",
    "train_set = adjusted_train_set\n",
    "print ('Count of adjusted train set:', len(adjusted_train_set))"
   ]
  },
  {
   "cell_type": "markdown",
   "metadata": {},
   "source": [
    "# Data visualization\n",
    "\n",
    "Select here the type of signs, as well as the histogram equalization transform to see what's your data looks like."
   ]
  },
  {
   "cell_type": "code",
   "execution_count": 8,
   "metadata": {
    "collapsed": false,
    "deletable": true,
    "editable": true
   },
   "outputs": [
    {
     "data": {
      "image/png": "[encoded data removed]",
      "text/plain": [
       "<matplotlib.figure.Figure at 0x123d57358>"
      ]
     },
     "metadata": {},
     "output_type": "display_data"
    }
   ],
   "source": [
    "def click_on_button(class_id, norm_hist):\n",
    "    plt.figure(figsize=(20,5))\n",
    "    n = 10\n",
    "    selected = train_set.loc[train_set['ClassId'] == class_id]\n",
    "    for i in range(n):\n",
    "        plt.subplot(1, n, i+1)\n",
    "        img = misc.imresize(misc.imread(selected.iloc[i]['Path'] + selected.iloc[i]['Filename']), (NORM_W, NORM_H))\n",
    "        if norm_hist:\n",
    "            img = exposure.equalize_hist(img)\n",
    "        plt.imshow(img)\n",
    "\n",
    "interact(click_on_button, \n",
    "         class_id={label : class_id for (class_id, label) in enumerate(label_names)},\n",
    "         norm_hist = False\n",
    "        )\n"
   ]
  },
  {
   "cell_type": "markdown",
   "metadata": {},
   "source": [
    "# Generator\n",
    "When we are working with a lot of data, we don't want to store everything in memory. Python generators let load data during on-the-fly (for example, during large loops)"
   ]
  },
  {
   "cell_type": "code",
   "execution_count": 9,
   "metadata": {
    "collapsed": false,
    "deletable": true,
    "editable": true
   },
   "outputs": [],
   "source": [
    "# the generator\n",
    "def generator(df, batch_size=100):\n",
    "    while 1:\n",
    "        df = df.sample(frac=1)\n",
    "        X, Y = [], []\n",
    "        for i in range(batch_size):\n",
    "            img = misc.imresize(misc.imread(df.iloc[i]['Path'] + df.iloc[i]['Filename']), (NORM_W, NORM_H))\n",
    "            img = exposure.equalize_hist(img)\n",
    "            X.append(img)\n",
    "            Y.append(df.iloc[i]['ClassId'])\n",
    "        enc = preprocessing.LabelBinarizer()\n",
    "        enc.fit(range(len(label_names)))\n",
    "\n",
    "        yield np.float32(X), np.array(enc.transform(Y))\n",
    "        "
   ]
  },
  {
   "cell_type": "markdown",
   "metadata": {},
   "source": [
    "# Look on the data\n",
    "This is the final output from the generator:\n",
    "An X point as one piece of data (an image of the traffic sign, a 32x32x3 image);\n",
    "and the corresponding Y label.\n",
    "\n",
    "Y label is encoded in one-hot style, so it returns a vector with 0-s and a 1 on the corresponding label position."
   ]
  },
  {
   "cell_type": "code",
   "execution_count": 98,
   "metadata": {
    "collapsed": false,
    "deletable": true,
    "editable": true
   },
   "outputs": [
    {
     "name": "stdout",
     "output_type": "stream",
     "text": [
      "Sample X shape: (32, 32, 3)\n",
      "Sample Y: [0 0 1 0 0]\n"
     ]
    },
    {
     "name": "stderr",
     "output_type": "stream",
     "text": [
      "/Users/tempflip/.conda/envs/carnd/lib/python3.5/site-packages/skimage/exposure/exposure.py:63: UserWarning: This might be a color image. The histogram will be computed on the flattened image. You can instead apply this function to each color channel.\n",
      "  warn(\"This might be a color image. The histogram will be \"\n"
     ]
    }
   ],
   "source": [
    "n = 2\n",
    "test_g = generator(train_set, batch_size = n)\n",
    "\n",
    "X, Y = next(test_g)\n",
    "\n",
    "print ('Sample X shape:', X[0].shape)\n",
    "print ('Sample Y:', Y[0])"
   ]
  },
  {
   "cell_type": "markdown",
   "metadata": {},
   "source": [
    "# The Keras model"
   ]
  },
  {
   "cell_type": "code",
   "execution_count": 11,
   "metadata": {
    "collapsed": false,
    "deletable": true,
    "editable": true
   },
   "outputs": [
    {
     "name": "stdout",
     "output_type": "stream",
     "text": [
      "Tensor(\"add_5:0\", shape=(?, 5), dtype=float32)\n"
     ]
    }
   ],
   "source": [
    "model = Sequential()\n",
    "\n",
    "model.add(Convolution2D(32,3,3, input_shape = (32, 32, 3)))\n",
    "model.add(MaxPooling2D((2,2)))\n",
    "model.add(Dropout(0.2))\n",
    "model.add(Activation('relu'))\n",
    "\n",
    "model.add(Convolution2D(64,3,3))\n",
    "model.add(MaxPooling2D((2,2)))\n",
    "model.add(Dropout(0.2))\n",
    "model.add(Activation('relu'))\n",
    "\n",
    "model.add(Convolution2D(128,3,3,))\n",
    "model.add(MaxPooling2D((2,2)))\n",
    "model.add(Dropout(0.2))\n",
    "model.add(Activation('relu'))\n",
    "\n",
    "model.add(Flatten())\n",
    "model.add(Dense(1000))\n",
    "model.add(Dense(100))\n",
    "model.add(Dense(len(label_names)))\n",
    "\n",
    "print (model.output)\n"
   ]
  },
  {
   "cell_type": "markdown",
   "metadata": {},
   "source": [
    "# Training the model"
   ]
  },
  {
   "cell_type": "code",
   "execution_count": 100,
   "metadata": {
    "collapsed": false,
    "deletable": true,
    "editable": true
   },
   "outputs": [
    {
     "name": "stdout",
     "output_type": "stream",
     "text": [
      "Epoch 1/5\n"
     ]
    },
    {
     "name": "stderr",
     "output_type": "stream",
     "text": [
      "/Users/tempflip/.conda/envs/carnd/lib/python3.5/site-packages/skimage/exposure/exposure.py:63: UserWarning: This might be a color image. The histogram will be computed on the flattened image. You can instead apply this function to each color channel.\n",
      "  warn(\"This might be a color image. The histogram will be \"\n"
     ]
    },
    {
     "name": "stdout",
     "output_type": "stream",
     "text": [
      "3000/3000 [==============================] - 12s - loss: 0.1580 - acc: 0.2897 - val_loss: 0.1288 - val_acc: 0.5400\b\b\b\b\b\b\b\b\b\b\b\b\b\b\b\b\b\b\b\b\b\b\b\b\b\b\b\b\b\b\b\b\b\b\b\b\b\b\b\b\b\b\b\b\b\b\b\b\b\b\b\b\b\b\b\b\b\b\b\b\b\b\b\b\b\b\b\b\b\b\b\b\b\b\b\b\b\b\b\b\b\b\b\b\b\b\b\b\b\b\b\b\b\b\b\b\b\b\b\b\b\b\b\b\b\b\b\b\b\b\b\b\b\b\b\b\b\b\b\b\b\b\b\b\b\b\b\b\b\b\b\b\b\b\b\b\b\b\b\b\b\b\b\b\b\b\b\b\b\b\b\b\b\b\b\b\b\b\b\b\b\b\b\b\b\b\b\b\b\b\b\b\b\b\b\b\b\b\b\b\b\b\b\b\b\b\b\b\b\b\b\b\b\b\b\b\b\b\b\b\b\b\b\b\b\b\b\b\b\b\b\b\b\b\b\b\b\b\b\b\b\b\b\b\b\b\b\b\b\b\b\b\b\b\b\b\b\b\b\b\b\b\b\b\b\b\b\b\b\b\b\b\b\b\b\b\b\b\b\b\b\b\b\b\b\b\b\b\b\b\b\b\b\b\b\b\b\b\b\b\b\b\b\b\b\b\b\b\b\b\b\b\b\b\b\b\b\b\b\b\b\b\b\b\b\b\b\b\b\b\b\b\b\b\b\b\b\b\b\b\b\b\b\b\b\b\b\b\b\b\b\b\b\b\b\b\b\b\b\b\b\b\b\b\b\b\b\b\b\b\b\b\b\b\b\b\b\b\b\b\b\b\b\b\b\b\b\b\b\b\b\b\b\b\b\b\b\b\b\b\b\b\b\b\b\b\b\b\b\b\b\b\b\b\b\b\b\b\b\b\b\b\b\b\b\b\b\b\b\b\b\b\b\b\b\b\b\b\b\b\b\b\b\b\b\b\b\b\b\b\b\b\b\b\b\b\b\b\b\b\b\b\b\b\b\b\b\b\b\b\b\b\b\b\b\b\b\b\b\b\b\b\b\b\b\b\b\b\b\b\b\b\b\b\b\b\b\b\b\b\b\b\b\b\b\b\b\b\b\b\b\b\b\b\b\b\b\b\b\b\b\b\b\b\b\b\b\b\b\b\b\b\b\b\b\b\b\b\b\b\b\b\b\b\b\b\b\b\b\b\b\b\b\b\b\b\b\b\b\b\b\b\b\b\b\b\b\b\b\b\b\b\b\b\b\b\b\b\b\b\b\b\b\b\b\b\b\b\b\b\b\b\b\b\b\b\b\b\b\b\b\b\b\b\b\b\b\b\b\b\b\b\b\b\b\b\b\b\b\b\b\b\b\b\b\b\b\b\b\b\b\b\b\b\b\b\b\b\b\b\b\b\b\b\b\b\b\b\b\b\b\b\b\b\b\b\b\b\b\b\b\b\b\b\b\b\b\b\b\b\b\b\b\b\b\b\b\b\b\b\b\b\b\b\b\b\b\b\b\b\b\b\b\b\b\b\b\b\b\b\b\b\b\b\b\b\b\b\b\b\b\b\b\b\b\b\b\b\b\b\n",
      "Epoch 2/5\n",
      "3000/3000 [==============================] - 10s - loss: 0.1266 - acc: 0.4750 - val_loss: 0.1264 - val_acc: 0.6300\b\b\b\b\b\b\b\b\b\b\b\b\b\b\b\b\b\b\b\b\b\b\b\b\b\b\b\b\b\b\b\b\b\b\b\b\b\b\b\b\b\b\b\b\b\b\b\b\b\b\b\b\b\b\b\b\b\b\b\b\b\b\b\b\b\b\b\b\b\b\b\b\b\b\b\b\b\b\b\b\b\b\b\b\b\b\b\b\b\b\b\b\b\b\b\b\b\b\b\b\b\b\b\b\b\b\b\b\b\b\b\b\b\b\b\b\b\b\b\b\b\b\b\b\b\b\b\b\b\b\b\b\b\b\b\b\b\b\b\b\b\b\b\b\b\b\b\b\b\b\b\b\b\b\b\b\b\b\b\b\b\b\b\b\b\b\b\b\b\b\b\b\b\b\b\b\b\b\b\b\b\b\b\b\b\b\b\b\b\b\b\b\b\b\b\b\b\b\b\b\b\b\b\b\b\b\b\b\b\b\b\b\b\b\b\b\b\b\b\b\b\b\b\b\b\b\b\b\b\b\b\b\b\b\b\b\b\b\b\b\b\b\b\b\b\b\b\b\b\b\b\b\b\b\b\b\b\b\b\b\b\b\b\b\b\b\b\b\b\b\b\b\b\b\b\b\b\b\b\b\b\b\b\b\b\b\b\b\b\b\b\b\b\b\b\b\b\b\b\b\b\b\b\b\b\b\b\b\b\b\b\b\b\b\b\b\b\b\b\b\b\b\b\b\b\b\b\b\b\b\b\b\b\b\b\b\b\b\b\b\b\b\b\b\b\b\b\b\b\b\b\b\b\b\b\b\b\b\b\b\b\b\b\b\b\b\b\b\b\b\b\b\b\b\b\b\b\b\b\b\b\b\b\b\b\b\b\b\b\b\b\b\b\b\b\b\b\b\b\b\b\b\b\b\b\b\b\b\b\b\b\b\b\b\b\b\b\b\b\b\b\b\b\b\b\b\b\b\b\b\b\b\b\b\b\b\b\b\b\b\b\b\b\b\b\b\b\b\b\b\b\b\b\b\b\b\b\b\b\b\b\b\b\b\b\b\b\b\b\b\b\b\b\b\b\b\b\b\b\b\b\b\b\b\b\b\b\b\b\b\b\b\b\b\b\b\b\b\b\b\b\b\b\b\b\b\b\b\b\b\b\b\b\b\b\b\b\b\b\b\b\b\b\b\b\b\b\b\b\b\b\b\b\b\b\b\b\b\b\b\b\b\b\b\b\b\b\b\b\b\b\b\b\b\b\b\b\b\b\b\b\b\b\b\b\b\b\b\b\b\b\b\b\b\b\b\b\b\b\b\b\b\b\b\b\b\b\b\b\b\b\b\b\b\b\b\b\b\b\b\b\b\b\b\b\b\b\b\b\b\b\b\b\b\b\b\b\b\b\b\b\b\b\b\b\b\b\b\b\b\b\b\b\b\b\b\b\b\b\b\b\b\b\b\b\b\b\b\b\b\b\b\b\b\b\b\b\b\b\b\b\b\b\b\b\b\b\b\b\b\b\b\b\b\b\b\b\b\b\b\b\b\b\b\b\b\b\b\b\b\b\b\b\b\b\b\n",
      "Epoch 3/5\n",
      "3000/3000 [==============================] - 10s - loss: 0.1183 - acc: 0.5520 - val_loss: 0.1132 - val_acc: 0.5500\b\b\b\b\b\b\b\b\b\b\b\b\b\b\b\b\b\b\b\b\b\b\b\b\b\b\b\b\b\b\b\b\b\b\b\b\b\b\b\b\b\b\b\b\b\b\b\b\b\b\b\b\b\b\b\b\b\b\b\b\b\b\b\b\b\b\b\b\b\b\b\b\b\b\b\b\b\b\b\b\b\b\b\b\b\b\b\b\b\b\b\b\b\b\b\b\b\b\b\b\b\b\b\b\b\b\b\b\b\b\b\b\b\b\b\b\b\b\b\b\b\b\b\b\b\b\b\b\b\b\b\b\b\b\b\b\b\b\b\b\b\b\b\b\b\b\b\b\b\b\b\b\b\b\b\b\b\b\b\b\b\b\b\b\b\b\b\b\b\b\b\b\b\b\b\b\b\b\b\b\b\b\b\b\b\b\b\b\b\b\b\b\b\b\b\b\b\b\b\b\b\b\b\b\b\b\b\b\b\b\b\b\b\b\b\b\b\b\b\b\b\b\b\b\b\b\b\b\b\b\b\b\b\b\b\b\b\b\b\b\b\b\b\b\b\b\b\b\b\b\b\b\b\b\b\b\b\b\b\b\b\b\b\b\b\b\b\b\b\b\b\b\b\b\b\b\b\b\b\b\b\b\b\b\b\b\b\b\b\b\b\b\b\b\b\b\b\b\b\b\b\b\b\b\b\b\b\b\b\b\b\b\b\b\b\b\b\b\b\b\b\b\b\b\b\b\b\b\b\b\b\b\b\b\b\b\b\b\b\b\b\b\b\b\b\b\b\b\b\b\b\b\b\b\b\b\b\b\b\b\b\b\b\b\b\b\b\b\b\b\b\b\b\b\b\b\b\b\b\b\b\b\b\b\b\b\b\b\b\b\b\b\b\b\b\b\b\b\b\b\b\b\b\b\b\b\b\b\b\b\b\b\b\b\b\b\b\b\b\b\b\b\b\b\b\b\b\b\b\b\b\b\b\b\b\b\b\b\b\b\b\b\b\b\b\b\b\b\b\b\b\b\b\b\b\b\b\b\b\b\b\b\b\b\b\b\b\b\b\b\b\b\b\b\b\b\b\b\b\b\b\b\b\b\b\b\b\b\b\b\b\b\b\b\b\b\b\b\b\b\b\b\b\b\b\b\b\b\b\b\b\b\b\b\b\b\b\b\b\b\b\b\b\b\b\b\b\b\b\b\b\b\b\b\b\b\b\b\b\b\b\b\b\b\b\b\b\b\b\b\b\b\b\b\b\b\b\b\b\b\b\b\b\b\b\b\b\b\b\b\b\b\b\b\b\b\b\b\b\b\b\b\b\b\b\b\b\b\b\b\b\b\b\b\b\b\b\b\b\b\b\b\b\b\b\b\b\b\b\b\b\b\b\b\b\b\b\b\b\b\b\b\b\b\b\b\b\b\b\b\b\b\b\b\b\b\b\b\b\b\b\b\b\b\b\b\b\b\b\b\b\b\b\b\b\b\b\b\b\b\b\b\b\b\b\b\b\b\b\b\b\b\b\b\b\b\b\b\b\b\b\b\b\b\b\b\b\b\b\b\b\b\b\b\b\b\n",
      "Epoch 4/5\n",
      "3000/3000 [==============================] - 10s - loss: 0.0998 - acc: 0.6370 - val_loss: 0.0859 - val_acc: 0.7700\b\b\b\b\b\b\b\b\b\b\b\b\b\b\b\b\b\b\b\b\b\b\b\b\b\b\b\b\b\b\b\b\b\b\b\b\b\b\b\b\b\b\b\b\b\b\b\b\b\b\b\b\b\b\b\b\b\b\b\b\b\b\b\b\b\b\b\b\b\b\b\b\b\b\b\b\b\b\b\b\b\b\b\b\b\b\b\b\b\b\b\b\b\b\b\b\b\b\b\b\b\b\b\b\b\b\b\b\b\b\b\b\b\b\b\b\b\b\b\b\b\b\b\b\b\b\b\b\b\b\b\b\b\b\b\b\b\b\b\b\b\b\b\b\b\b\b\b\b\b\b\b\b\b\b\b\b\b\b\b\b\b\b\b\b\b\b\b\b\b\b\b\b\b\b\b\b\b\b\b\b\b\b\b\b\b\b\b\b\b\b\b\b\b\b\b\b\b\b\b\b\b\b\b\b\b\b\b\b\b\b\b\b\b\b\b\b\b\b\b\b\b\b\b\b\b\b\b\b\b\b\b\b\b\b\b\b\b\b\b\b\b\b\b\b\b\b\b\b\b\b\b\b\b\b\b\b\b\b\b\b\b\b\b\b\b\b\b\b\b\b\b\b\b\b\b\b\b\b\b\b\b\b\b\b\b\b\b\b\b\b\b\b\b\b\b\b\b\b\b\b\b\b\b\b\b\b\b\b\b\b\b\b\b\b\b\b\b\b\b\b\b\b\b\b\b\b\b\b\b\b\b\b\b\b\b\b\b\b\b\b\b\b\b\b\b\b\b\b\b\b\b\b\b\b\b\b\b\b\b\b\b\b\b\b\b\b\b\b\b\b\b\b\b\b\b\b\b\b\b\b\b\b\b\b\b\b\b\b\b\b\b\b\b\b\b\b\b\b\b\b\b\b\b\b\b\b\b\b\b\b\b\b\b\b\b\b\b\b\b\b\b\b\b\b\b\b\b\b\b\b\b\b\b\b\b\b\b\b\b\b\b\b\b\b\b\b\b\b\b\b\b\b\b\b\b\b\b\b\b\b\b\b\b\b\b\b\b\b\b\b\b\b\b\b\b\b\b\b\b\b\b\b\b\b\b\b\b\b\b\b\b\b\b\b\b\b\b\b\b\b\b\b\b\b\b\b\b\b\b\b\b\b\b\b\b\b\b\b\b\b\b\b\b\b\b\b\b\b\b\b\b\b\b\b\b\b\b\b\b\b\b\b\b\b\b\b\b\b\b\b\b\b\b\b\b\b\b\b\b\b\b\b\b\b\b\b\b\b\b\b\b\b\b\b\b\b\b\b\b\b\b\b\b\b\b\b\b\b\b\b\b\b\b\b\b\b\b\b\b\b\b\b\b\b\b\b\b\b\b\b\b\b\b\b\b\b\b\b\b\b\b\b\b\b\b\b\b\b\b\b\b\b\b\b\b\b\b\b\b\b\b\b\b\b\b\b\b\b\b\b\b\b\b\b\b\b\b\b\b\b\b\b\b\b\b\b\b\b\b\b\b\b\b\b\b\b\b\b\b\b\b\b\b\b\b\b\b\b\b\b\b\b\b\b\b\n",
      "Epoch 5/5\n",
      "3000/3000 [==============================] - 9s - loss: 0.0859 - acc: 0.7187 - val_loss: 0.0828 - val_acc: 0.7300\b\b\b\b\b\b\b\b\b\b\b\b\b\b\b\b\b\b\b\b\b\b\b\b\b\b\b\b\b\b\b\b\b\b\b\b\b\b\b\b\b\b\b\b\b\b\b\b\b\b\b\b\b\b\b\b\b\b\b\b\b\b\b\b\b\b\b\b\b\b\b\b\b\b\b\b\b\b\b\b\b\b\b\b\b\b\b\b\b\b\b\b\b\b\b\b\b\b\b\b\b\b\b\b\b\b\b\b\b\b\b\b\b\b\b\b\b\b\b\b\b\b\b\b\b\b\b\b\b\b\b\b\b\b\b\b\b\b\b\b\b\b\b\b\b\b\b\b\b\b\b\b\b\b\b\b\b\b\b\b\b\b\b\b\b\b\b\b\b\b\b\b\b\b\b\b\b\b\b\b\b\b\b\b\b\b\b\b\b\b\b\b\b\b\b\b\b\b\b\b\b\b\b\b\b\b\b\b\b\b\b\b\b\b\b\b\b\b\b\b\b\b\b\b\b\b\b\b\b\b\b\b\b\b\b\b\b\b\b\b\b\b\b\b\b\b\b\b\b\b\b\b\b\b\b\b\b\b\b\b\b\b\b\b\b\b\b\b\b\b\b\b\b\b\b\b\b\b\b\b\b\b\b\b\b\b\b\b\b\b\b\b\b\b\b\b\b\b\b\b\b\b\b\b\b\b\b\b\b\b\b\b\b\b\b\b\b\b\b\b\b\b\b\b\b\b\b\b\b\b\b\b\b\b\b\b\b\b\b\b\b\b\b\b\b\b\b\b\b\b\b\b\b\b\b\b\b\b\b\b\b\b\b\b\b\b\b\b\b\b\b\b\b\b\b\b\b\b\b\b\b\b\b\b\b\b\b\b\b\b\b\b\b\b\b\b\b\b\b\b\b\b\b\b\b\b\b\b\b\b\b\b\b\b\b\b\b\b\b\b\b\b\b\b\b\b\b\b\b\b\b\b\b\b\b\b\b\b\b\b\b\b\b\b\b\b\b\b\b\b\b\b\b\b\b\b\b\b\b\b\b\b\b\b\b\b\b\b\b\b\b\b\b\b\b\b\b\b\b\b\b\b\b\b\b\b\b\b\b\b\b\b\b\b\b\b\b\b\b\b\b\b\b\b\b\b\b\b\b\b\b\b\b\b\b\b\b\b\b\b\b\b\b\b\b\b\b\b\b\b\b\b\b\b\b\b\b\b\b\b\b\b\b\b\b\b\b\b\b\b\b\b\b\b\b\b\b\b\b\b\b\b\b\b\b\b\b\b\b\b\b\b\b\b\b\b\b\b\b\b\b\b\b\b\b\b\b\b\b\b\b\b\b\b\b\b\b\b\b\b\b\b\b\b\b\b\b\b\b\b\b\b\b\b\b\b\b\b\b\b\b\b\b\b\b\b\b\b\b\b\b\b\b\b\b\b\b\b\b\b\b\b\b\b\b\b\b\b\b\b\b\b\b\b\b\b\b\b\b\b\b\b\b\b\b\b\b\b\b\b\b\b\b\b\b\b\b\b\b\b\b\b\b\b\b\b\b\b\b\b\b\b\b\b\b\b\b\b\b\n"
     ]
    }
   ],
   "source": [
    "gen = generator(train_set, batch_size=300)\n",
    "val_gen = generator(test_set, batch_size=100)\n",
    "\n",
    "model.compile(optimizer='adam', loss='mse', metrics=['accuracy'])\n",
    "history = model.fit_generator(gen, samples_per_epoch=3000, nb_epoch=5, validation_data=val_gen, nb_val_samples=100)\n",
    "\n"
   ]
  },
  {
   "cell_type": "code",
   "execution_count": 101,
   "metadata": {
    "collapsed": false,
    "deletable": true,
    "editable": true
   },
   "outputs": [
    {
     "data": {
      "text/plain": [
       "<matplotlib.legend.Legend at 0x126969f60>"
      ]
     },
     "execution_count": 101,
     "metadata": {},
     "output_type": "execute_result"
    },
    {
     "data": {
      "image/png": "[encoded data removed]",
      "text/plain": [
       "<matplotlib.figure.Figure at 0x128ed98d0>"
      ]
     },
     "metadata": {},
     "output_type": "display_data"
    }
   ],
   "source": [
    "plt.figure(figsize=(15,5))\n",
    "plt.subplot(1,2,1)\n",
    "plt.plot(history.history['acc'], label='Accuracy')\n",
    "plt.plot(history.history['val_acc'], label='Val.Accuracy')\n",
    "plt.legend()\n",
    "plt.subplot(1,2,2)\n",
    "plt.plot(history.history['loss'], label='Loss')\n",
    "plt.plot(history.history['val_loss'], label='Val.Loss')\n",
    "plt.legend()"
   ]
  },
  {
   "cell_type": "code",
   "execution_count": 103,
   "metadata": {
    "collapsed": false,
    "deletable": true,
    "editable": true
   },
   "outputs": [
    {
     "name": "stderr",
     "output_type": "stream",
     "text": [
      "/Users/tempflip/.conda/envs/carnd/lib/python3.5/site-packages/skimage/exposure/exposure.py:63: UserWarning: This might be a color image. The histogram will be computed on the flattened image. You can instead apply this function to each color channel.\n",
      "  warn(\"This might be a color image. The histogram will be \"\n"
     ]
    },
    {
     "name": "stdout",
     "output_type": "stream",
     "text": [
      "Matches: 147 of 200; 73.5 %\n"
     ]
    }
   ],
   "source": [
    "# test\n",
    "\n",
    "TEST_SIZE = 200\n",
    "def softmax(x):\n",
    "    e_x = np.exp(x - np.max(x))\n",
    "    return e_x / e_x.sum(axis=0) # only difference\n",
    "\n",
    "pr_get = generator(test_set, batch_size=TEST_SIZE)\n",
    "X, Y = next(pr_get)\n",
    "\n",
    "pr = model.predict(X)\n",
    "\n",
    "pred_labels = np.argmax(pr, axis=1)\n",
    "truth = np.argmax(Y, axis=1)\n",
    "\n",
    "match_ratio = sum(pred_labels == truth)\n",
    "print ('Matches: {} of {}; {} %'.format( match_ratio, TEST_SIZE, match_ratio / TEST_SIZE * 100) )\n"
   ]
  },
  {
   "cell_type": "code",
   "execution_count": 17,
   "metadata": {
    "collapsed": true,
    "deletable": true,
    "editable": true
   },
   "outputs": [],
   "source": [
    "#saving the model\n",
    "model.save('./demo_model_45pr.h5')"
   ]
  },
  {
   "cell_type": "code",
   "execution_count": 139,
   "metadata": {
    "collapsed": false,
    "deletable": true,
    "editable": true
   },
   "outputs": [
    {
     "name": "stderr",
     "output_type": "stream",
     "text": [
      "/Users/tempflip/.conda/envs/carnd/lib/python3.5/site-packages/skimage/exposure/exposure.py:63: UserWarning: This might be a color image. The histogram will be computed on the flattened image. You can instead apply this function to each color channel.\n",
      "  warn(\"This might be a color image. The histogram will be \"\n"
     ]
    },
    {
     "data": {
      "image/png": "[encoded data removed]",
      "text/plain": [
       "<matplotlib.figure.Figure at 0x12977bb00>"
      ]
     },
     "metadata": {},
     "output_type": "display_data"
    }
   ],
   "source": [
    "\n",
    "\n",
    "@interact(model_name=['./demo_model_45pr.h5'], batch_size=8, n_best=5)\n",
    "def vis_test(model_name, batch_size, n_best):\n",
    "    plt.figure(figsize=(20,batch_size * 3))\n",
    "    gen = generator(test_set, batch_size = batch_size)\n",
    "    X, Y = next(gen)\n",
    "    pr = model.predict(X)\n",
    "    best_guesses = np.argsort(pr)\n",
    "    \n",
    "    for i in range(batch_size):\n",
    "        plt.subplot(batch_size * 2, 2, i*2 + 1)\n",
    "        plt.imshow(X[i])\n",
    "        \n",
    "        true_label = label_names[np.argmax(Y[i])]\n",
    "        pred_label = label_names[np.argmax(pr[i])]\n",
    "        \n",
    "        plt.text(50, 20, 'Ground trouth:\\n{}\\nPrediction:\\n{} '.format(true_label,pred_label)  )\n",
    "        \n",
    "        plt.subplot(batch_size * 2, 2, i*2 + 2)\n",
    "        guess_list = best_guesses[i][::-1][:n_best] #\n",
    "        plt.barh(range(len(guess_list)), [pr[i][x] for x in guess_list])\n",
    "        plt.yticks(range(len(guess_list)), [label_names[x] for x in guess_list])\n",
    "        \n"
   ]
  },
  {
   "cell_type": "code",
   "execution_count": 20,
   "metadata": {
    "collapsed": false,
    "deletable": true,
    "editable": true
   },
   "outputs": [
    {
     "ename": "ImportError",
     "evalue": "No module named 'pydot'",
     "output_type": "error",
     "traceback": [
      "\u001b[0;31m---------------------------------------------------------------------------\u001b[0m",
      "\u001b[0;31mImportError\u001b[0m                               Traceback (most recent call last)",
      "\u001b[0;32m/Users/tempflip/.conda/envs/carnd/lib/python3.5/site-packages/keras/utils/visualize_util.py\u001b[0m in \u001b[0;36m<module>\u001b[0;34m()\u001b[0m\n\u001b[1;32m      8\u001b[0m     \u001b[0;31m# pydot-ng is a fork of pydot that is better maintained.\u001b[0m\u001b[0;34m\u001b[0m\u001b[0;34m\u001b[0m\u001b[0m\n\u001b[0;32m----> 9\u001b[0;31m     \u001b[0;32mimport\u001b[0m \u001b[0mpydot_ng\u001b[0m \u001b[0;32mas\u001b[0m \u001b[0mpydot\u001b[0m\u001b[0;34m\u001b[0m\u001b[0m\n\u001b[0m\u001b[1;32m     10\u001b[0m \u001b[0;32mexcept\u001b[0m \u001b[0mImportError\u001b[0m\u001b[0;34m:\u001b[0m\u001b[0;34m\u001b[0m\u001b[0m\n",
      "\u001b[0;31mImportError\u001b[0m: No module named 'pydot_ng'",
      "\nDuring handling of the above exception, another exception occurred:\n",
      "\u001b[0;31mImportError\u001b[0m                               Traceback (most recent call last)",
      "\u001b[0;32m<ipython-input-20-d40674e76f14>\u001b[0m in \u001b[0;36m<module>\u001b[0;34m()\u001b[0m\n\u001b[1;32m      1\u001b[0m \u001b[0;32mfrom\u001b[0m \u001b[0mIPython\u001b[0m\u001b[0;34m.\u001b[0m\u001b[0mdisplay\u001b[0m \u001b[0;32mimport\u001b[0m \u001b[0mSVG\u001b[0m\u001b[0;34m\u001b[0m\u001b[0m\n\u001b[1;32m      2\u001b[0m \u001b[0;31m#from keras.utils.vis_utils import model_to_dot\u001b[0m\u001b[0;34m\u001b[0m\u001b[0;34m\u001b[0m\u001b[0m\n\u001b[0;32m----> 3\u001b[0;31m \u001b[0;32mfrom\u001b[0m \u001b[0mkeras\u001b[0m\u001b[0;34m.\u001b[0m\u001b[0mutils\u001b[0m\u001b[0;34m.\u001b[0m\u001b[0mvisualize_util\u001b[0m \u001b[0;32mimport\u001b[0m \u001b[0mplot\u001b[0m\u001b[0;34m\u001b[0m\u001b[0m\n\u001b[0m\u001b[1;32m      4\u001b[0m \u001b[0;34m\u001b[0m\u001b[0m\n\u001b[1;32m      5\u001b[0m \u001b[0;31m#SVG(model_to_dot(model).create(prog='dot', format='svg'))\u001b[0m\u001b[0;34m\u001b[0m\u001b[0;34m\u001b[0m\u001b[0m\n",
      "\u001b[0;32m/Users/tempflip/.conda/envs/carnd/lib/python3.5/site-packages/keras/utils/visualize_util.py\u001b[0m in \u001b[0;36m<module>\u001b[0;34m()\u001b[0m\n\u001b[1;32m     10\u001b[0m \u001b[0;32mexcept\u001b[0m \u001b[0mImportError\u001b[0m\u001b[0;34m:\u001b[0m\u001b[0;34m\u001b[0m\u001b[0m\n\u001b[1;32m     11\u001b[0m     \u001b[0;31m# Fall back on pydot if necessary.\u001b[0m\u001b[0;34m\u001b[0m\u001b[0;34m\u001b[0m\u001b[0m\n\u001b[0;32m---> 12\u001b[0;31m     \u001b[0;32mimport\u001b[0m \u001b[0mpydot\u001b[0m\u001b[0;34m\u001b[0m\u001b[0m\n\u001b[0m\u001b[1;32m     13\u001b[0m \u001b[0;32mif\u001b[0m \u001b[0;32mnot\u001b[0m \u001b[0mpydot\u001b[0m\u001b[0;34m.\u001b[0m\u001b[0mfind_graphviz\u001b[0m\u001b[0;34m(\u001b[0m\u001b[0;34m)\u001b[0m\u001b[0;34m:\u001b[0m\u001b[0;34m\u001b[0m\u001b[0m\n\u001b[1;32m     14\u001b[0m     raise ImportError('Failed to import pydot. You must install pydot'\n",
      "\u001b[0;31mImportError\u001b[0m: No module named 'pydot'"
     ]
    }
   ],
   "source": [
    "from IPython.display import SVG\n",
    "#from keras.utils.vis_utils import model_to_dot\n",
    "from keras.utils.visualize_util import plot\n",
    "\n",
    "#SVG(model_to_dot(model).create(prog='dot', format='svg'))"
   ]
  },
  {
   "cell_type": "code",
   "execution_count": null,
   "metadata": {
    "collapsed": true,
    "deletable": true,
    "editable": true
   },
   "outputs": [],
   "source": []
  }
 ],
 "metadata": {
  "kernelspec": {
   "display_name": "Python 3",
   "language": "python",
   "name": "python3"
  },
  "language_info": {
   "codemirror_mode": {
    "name": "ipython",
    "version": 3
   },
   "file_extension": ".py",
   "mimetype": "text/x-python",
   "name": "python",
   "nbconvert_exporter": "python",
   "pygments_lexer": "ipython3",
   "version": "3.5.2"
  },
  "widgets": {
   "state": {
    "0040dde3b06a4bdf89135e18d6120673": {
     "views": []
    },
    "00894e08002147d99944be9ec2839829": {
     "views": []
    },
    "00c50a796f944cf0bbfb47bf7275072e": {
     "views": []
    },
    "0113cb4254c74968bfe5ffa6ece64930": {
     "views": []
    },
    "013b19dbc1c34948a309e6593af97f2d": {
     "views": []
    },
    "01ca25cad5d04fb8878f1da5e5f7691d": {
     "views": []
    },
    "020f93ef34ad4b8cb503298c75a72c5d": {
     "views": []
    },
    "0225d766bcb740dc833af614b0ed9462": {
     "views": []
    },
    "024262b7d5cc4eb486060eb5d9d8520b": {
     "views": []
    },
    "0249f0edac1f4f47a6938800f5f456b1": {
     "views": []
    },
    "033c66b1cac34080b17f571e5aaae798": {
     "views": []
    },
    "035c089e641d463eb6ce94ccd26c0295": {
     "views": []
    },
    "03e3bdee023549c69d29c50f532b7d3b": {
     "views": []
    },
    "043c7079256b4df9b8ba1107b985f4e2": {
     "views": []
    },
    "0454a600c2b14b10be4e4e69391f9cfb": {
     "views": []
    },
    "0486f7b7ebb644b8bce50358e5194165": {
     "views": []
    },
    "048856adf58f4479b7300d465e8f444e": {
     "views": []
    },
    "056ae9bf488d4e478fabf282af820539": {
     "views": []
    },
    "05927fb12c1e4eeb92cfb5d2df554f26": {
     "views": []
    },
    "05b8868249be46a5afff6ff3cebdef4e": {
     "views": []
    },
    "060dab0a91e14b709b310b1b684b1031": {
     "views": []
    },
    "0649b79b057f4837adfb925577b587e1": {
     "views": []
    },
    "06957ef7163d4b40b897b8624570eb1e": {
     "views": []
    },
    "06a3e7244c694431a4685e687283c78a": {
     "views": []
    },
    "07345cde08e9475fa359e360db716fab": {
     "views": []
    },
    "07392fe31d4a401bbbdbeeb5ac1474cb": {
     "views": []
    },
    "0774588550704f23a0cb8bbca1ec8415": {
     "views": []
    },
    "0788caa1c8b94cce9a4d9e6ea84b6b74": {
     "views": []
    },
    "07a30bd8d356473c82414ef4e76a0044": {
     "views": []
    },
    "07b0d92845fc4a1d84b7a1ad06de2ba1": {
     "views": []
    },
    "07f7c9db0dd64139b50169fbbaa830a7": {
     "views": []
    },
    "08a84ac10e5140578ae731b9a4a0d81f": {
     "views": []
    },
    "0a2ae4b8a38f4462b647eb9281ab85ea": {
     "views": []
    },
    "0a77158a22234160a1e4ccf1696b1789": {
     "views": []
    },
    "0b0b76227c2a46b186a226a558998a62": {
     "views": []
    },
    "0b15c7c624b1491b9fb0a982275b08b6": {
     "views": []
    },
    "0b86e903a0d0434c9076ba95a84e4044": {
     "views": []
    },
    "0bd29c8371ea43bea5b53f100dc4cd0e": {
     "views": []
    },
    "0bfd93b40b5442048031fb29ae2f4599": {
     "views": []
    },
    "0c0e3091137446eab422269a0c9de987": {
     "views": []
    },
    "0c560efc06dd40a38ffc25d5c4b59555": {
     "views": []
    },
    "0caaadb81c9c4676b9a524bc1dec9a6e": {
     "views": []
    },
    "0cf88b73b929456c80a3baa0b7b44f3d": {
     "views": []
    },
    "0de249119e134a0381873e07010417af": {
     "views": []
    },
    "0e8ee62b7dca45ef85341e39d52ad0d0": {
     "views": []
    },
    "0e9752d456004af990fed55bc809ca42": {
     "views": []
    },
    "0f14f28c644249b2a6b5b01e4a69026a": {
     "views": []
    },
    "0f258798e4fc4bf683f95ba2188e58ad": {
     "views": []
    },
    "0f32fc7bf2964450811936949e47ed81": {
     "views": []
    },
    "0fa751be1fce44e9a0e0be54f5f16556": {
     "views": []
    },
    "0ff65d9e856549efa816057eb40e85da": {
     "views": []
    },
    "100e9714e0a74f9b8b2f106955b56238": {
     "views": []
    },
    "1086c651c4004f30818fae75192b88bb": {
     "views": []
    },
    "108e169c964e40a88d53d841ef72e194": {
     "views": []
    },
    "11021da7f4024d8490d568ac804422e5": {
     "views": []
    },
    "1189bfa2dc3a406b91779f298bc26dcf": {
     "views": []
    },
    "1209ceba4094445e9625365409490574": {
     "views": []
    },
    "124bf593058b4867b5d28373b9cb7e88": {
     "views": []
    },
    "13e8ac1361ae4b14a9bb86b7a64ae13c": {
     "views": []
    },
    "13f56637dc3a4ad09d60847b95c8276c": {
     "views": []
    },
    "141a4590ab9846299c6f6ec7d4de32f7": {
     "views": []
    },
    "1425d67e30294b788ce71c3b990a98a6": {
     "views": []
    },
    "142f78d3483840ec8f9d41fcccba4b38": {
     "views": []
    },
    "1444c157f8724cee8acdc1c75a02aa56": {
     "views": []
    },
    "145751b719b44c83bd59ef07215d6edd": {
     "views": []
    },
    "14fee915f59941658d7a621fd8bad967": {
     "views": []
    },
    "15118239a6734571821ef0a2de27b313": {
     "views": []
    },
    "153d7ba71df845f288c78cdedb7170b7": {
     "views": []
    },
    "165039a27a5040a7815190f63559d68a": {
     "views": []
    },
    "166822297ca64026a6ef76ab297dcf10": {
     "views": []
    },
    "16715a8356fe4519bae071424204c139": {
     "views": []
    },
    "176fe88fca5b4ceb8a4723d8a7c8f205": {
     "views": []
    },
    "17a51061b95e4bf88fd01dbc8686c229": {
     "views": []
    },
    "17e9e0b1cc2747119f2095087cd4aff7": {
     "views": []
    },
    "182d8950910d42dc80764293d85c47d3": {
     "views": []
    },
    "18a3713d37344010ae18850c98832ebb": {
     "views": []
    },
    "19fc157967f84697896ecb9216cb57cc": {
     "views": []
    },
    "1a27bf004a4848a3a03310b9815df95e": {
     "views": []
    },
    "1a9ef84981854979ac6b0cbb1bc9d83e": {
     "views": []
    },
    "1ac73316895e4672bb378b5785c36b23": {
     "views": []
    },
    "1b0e01baa3b346cdbddc9fe8a3b2770d": {
     "views": []
    },
    "1b8d29d8975f4c4ea0c64d3d0497f93b": {
     "views": []
    },
    "1bd132c9609f442cadfb9b2ee851f77d": {
     "views": []
    },
    "1bf09c5e996444b7a703ef934eb7d4fc": {
     "views": []
    },
    "1c6ef81cd6aa408ea2bf88d2f7fb3b6c": {
     "views": []
    },
    "1ce50d4815c04b66a0b343dc3c52452b": {
     "views": []
    },
    "1dd247bd7c33460ba066fa23fe8ed2bf": {
     "views": []
    },
    "1dd622a9b0e341ea8e3ea77b15b8ecc7": {
     "views": []
    },
    "1e15872350cd44b28eb355552178b21a": {
     "views": []
    },
    "1e16e8c4b11e4c7f8be01c95bf5b9e4b": {
     "views": []
    },
    "1e3a82578a144a2cb4156eb22b5ed302": {
     "views": []
    },
    "1f2903064d4a4ab88d7609762839b2f0": {
     "views": []
    },
    "1fa653eb92154418ac6cb61ef761c61f": {
     "views": []
    },
    "1fe4a8a8755449f890f31cf92b976508": {
     "views": []
    },
    "1feb10f9ea1248c1b168fdd9eae9b624": {
     "views": []
    },
    "1ffe8afe81d84003af5942070cef1033": {
     "views": []
    },
    "2006206587a548a5b7ab356085b094a2": {
     "views": []
    },
    "2010d911ec7e42359494e6fff3573e19": {
     "views": []
    },
    "20adf19a1c8e40e9b7bfd3610e11d2ac": {
     "views": []
    },
    "223c0c4ff6944104925cddf8da04d621": {
     "views": []
    },
    "22553548b50a4e33bfd1b76243c254db": {
     "views": []
    },
    "233002142e6e4e678220157767dccc4d": {
     "views": []
    },
    "23613d05d78d4fecb0448a17b1c543de": {
     "views": []
    },
    "2438a0b930204656a15acf2638d51ba7": {
     "views": []
    },
    "24f6a4be357f4d05859804796b805da2": {
     "views": []
    },
    "25e110637b394906903e79ab8f8ccb8f": {
     "views": []
    },
    "25f4889c44564622ab40d07f49faa5f3": {
     "views": []
    },
    "26217cd5f03146d7861f56924010065d": {
     "views": []
    },
    "263cf596192a42d68027caccfebe0152": {
     "views": []
    },
    "26e8d1266b0e487591f155d8cec5222b": {
     "views": []
    },
    "26f37d4e291645dc9310fdeca2f4ad04": {
     "views": []
    },
    "277268dd92e94810b0480590c7fd8d4b": {
     "views": []
    },
    "277deda2aa184fdd8c1acc5688bd9792": {
     "views": []
    },
    "28c57579b8ca4afabb5c8bb383cb8b6a": {
     "views": []
    },
    "28ce05ae8c304c029efb3e39994eecbf": {
     "views": []
    },
    "29945ed04d264822953564fee2fdf34d": {
     "views": []
    },
    "29987fccc93a4141a5b668fb0e6de413": {
     "views": []
    },
    "29e3e9373fad48e287032d38e2342a07": {
     "views": []
    },
    "29ea56b0e25247369ed00e266eb4c055": {
     "views": []
    },
    "2a1584957679459d9b8b6db8a8d015a6": {
     "views": []
    },
    "2a2994dbbffa4e9c9c2380be3198b653": {
     "views": []
    },
    "2abf1fb9af3e45698668b474604dfe28": {
     "views": []
    },
    "2b017bff535c4ca2b46680cd10dff267": {
     "views": []
    },
    "2b9526d85e3642b69224e38b60ac16b4": {
     "views": []
    },
    "2c0bfc8bc97345c7978bb61888ad6703": {
     "views": []
    },
    "2c4e411029264e9bb703496c8282df19": {
     "views": []
    },
    "2c5106684bc3479e81e744ca70de4ec2": {
     "views": []
    },
    "2d6b8f9177a44bf28287cac37b1c6af7": {
     "views": []
    },
    "2d9d9bc6eb904f91b11fe2fd50e59eb3": {
     "views": []
    },
    "2fbb3159aa1d4593a65c982a24b11876": {
     "views": []
    },
    "2ff8c724a77348e981d903d50a8beadd": {
     "views": []
    },
    "30b46fecf0064974976733f339177f53": {
     "views": []
    },
    "30c8a8616c8d463faf045fc3958fe07e": {
     "views": []
    },
    "31443506a1f4449eb0fa38142044f209": {
     "views": []
    },
    "31e390efd3f94c708935c6ad157883b7": {
     "views": []
    },
    "320773d01c7e4405aa2cf3d69c4fc81f": {
     "views": []
    },
    "320ce155051440099967a883bb951f30": {
     "views": []
    },
    "322bf50756514bd787acd8b0b8630e58": {
     "views": []
    },
    "328ad65f9ff349bcbf036c7e47d42143": {
     "views": []
    },
    "32b7823cbfbc458780ccd642dce432a8": {
     "views": []
    },
    "32ec3f66834747bb9992d4ea3457c0b9": {
     "views": []
    },
    "330985ab7b4f42938a87308d79d62c3f": {
     "views": []
    },
    "338e66ac9ff741a389c50f731b34c8fd": {
     "views": []
    },
    "343f56a379f444c8bcfb8a8d59c3064e": {
     "views": []
    },
    "34d97754629047e78e27859a37d93913": {
     "views": []
    },
    "34e8a8b2d59f4882afcd5d8bec299339": {
     "views": []
    },
    "34fc9dd4f3ca4b5bb6e9507317baf816": {
     "views": []
    },
    "36146d41242b4b44af677b29042c2ac6": {
     "views": []
    },
    "368a9687daa842db9f5389a3dcdc6504": {
     "views": []
    },
    "36f04ed73058429cb23926d9937dd199": {
     "views": []
    },
    "37ae4a8676684139a94dbbd9567de5c4": {
     "views": []
    },
    "37e1bddbffb84bea98fe299f365ec383": {
     "views": []
    },
    "381f2b12a91b413da2bb1da4c8da3974": {
     "views": []
    },
    "38ab2e17f58f48ab8fa39a465548bbff": {
     "views": []
    },
    "39701a330e5b4a8da2ade8739f3a2375": {
     "views": []
    },
    "398237dad0534995a00fb3b1f9ef445a": {
     "views": []
    },
    "3a9464bb702e43ab885bdd9d76984124": {
     "views": []
    },
    "3ad58b6376fd40908b70a7e7662a2718": {
     "views": []
    },
    "3ad5eb99a6134750a01fd2b334c1aa12": {
     "views": []
    },
    "3af3deff3adb4d6fa30362a347e4d69c": {
     "views": []
    },
    "3b0c3f5a69244f3e8aa6058d9cbfc418": {
     "views": []
    },
    "3bb5e8d735504a1e8283a2208d3690fc": {
     "views": []
    },
    "3bce8c7ac2e64a4e958f3c828a3af529": {
     "views": []
    },
    "3be31c06b9f542b3ba650f56642deceb": {
     "views": []
    },
    "3c0a8ca6e81342fc989d40f4245a5187": {
     "views": []
    },
    "3c387f4c15db47fbb9e37edf06ea9fec": {
     "views": []
    },
    "3c6abb6d37b842b7ab514e1c47234187": {
     "views": []
    },
    "3c80c9399c8e4a72b6652fa4c64485b0": {
     "views": []
    },
    "3ce296fa342e41c1b74db3e66339d654": {
     "views": []
    },
    "3cfc93a110c34e8fbe9ea783d93bf41d": {
     "views": []
    },
    "3d34bc5dbac84b7ab26d6b3c233e1e0a": {
     "views": []
    },
    "3e02f0cd5ff84e1db53b3253ae18479f": {
     "views": []
    },
    "3e64d38105404fac9eaf9ba4182c15d9": {
     "views": []
    },
    "3e968056b1d24ca3a330fada19e6f615": {
     "views": []
    },
    "3eb5f99d88ce493d866b47f63ed44cd9": {
     "views": []
    },
    "3eed7bab3c024cbabc210051a341340e": {
     "views": []
    },
    "3f0201fb5cd847ee837a01e0473b4590": {
     "views": []
    },
    "3f4132999c104da09c15ac784dde84d6": {
     "views": []
    },
    "401bcac6a72b4e1b97566eb724afd8cb": {
     "views": []
    },
    "40df028b54d04c09bc4f5867f1e4791a": {
     "views": []
    },
    "410eccfa9b134356a4c1a7d87bd3dfab": {
     "views": []
    },
    "418b98be687045bb8a840eeb893f6802": {
     "views": []
    },
    "427d3d3cf04d4a1aab194f3038bb438f": {
     "views": []
    },
    "4296f5a8ab564fd7a574858428deb36c": {
     "views": []
    },
    "42a61fefd307406c84aea2a1e94ac235": {
     "views": []
    },
    "44c78ecd113f4fa6812722c9f8112a24": {
     "views": []
    },
    "44d0ea575fe54862bf6342b1486ed691": {
     "views": []
    },
    "452cedad4d104d829024f34b6c229b00": {
     "views": []
    },
    "453dd3dcdaa4427b856eaf460df334d4": {
     "views": []
    },
    "4558bb9dfc01440f95a7ed9cae1e579d": {
     "views": []
    },
    "459e45ffe229456b821ae341934abae4": {
     "views": []
    },
    "45d69844eb2540a0a068b14e85ea8391": {
     "views": []
    },
    "460159e841f846239bd5849dfef8d58d": {
     "views": []
    },
    "461b95ec57864a23aec09e5c59386176": {
     "views": []
    },
    "471963e84dae4eb8a797284a8152bc94": {
     "views": []
    },
    "484feddf075a400b8712a10f9e0003aa": {
     "views": []
    },
    "487cb9da205f44d3b9f317823aadc9c8": {
     "views": []
    },
    "48d5289a432245f1b527477d2ef4d9a8": {
     "views": []
    },
    "4907b68cf4e54be59e257304d3e5f712": {
     "views": []
    },
    "49a2c26006dc4949be5f6aa5fb1b2b58": {
     "views": []
    },
    "4a51266d0ae542ed9f030e48e8fb4898": {
     "views": []
    },
    "4aa9785d61074ac4bd4d394efca17e00": {
     "views": []
    },
    "4aab8f456c4d43318d5e1665aa321897": {
     "views": []
    },
    "4ab6013673474e678801a0b18eb4efe3": {
     "views": []
    },
    "4ae35331bd2f4233ae648944240e5bcd": {
     "views": []
    },
    "4af9cf6b139148379a0092e6d5f93f8a": {
     "views": []
    },
    "4b0574d88c014601a5930a04d6758c2e": {
     "views": []
    },
    "4bbbee6a09f44f1abbc08a5120e19fe0": {
     "views": []
    },
    "4be66651eeef461fa6dd83c8ef1accb1": {
     "views": []
    },
    "4bfe58cb6c344ec6aed4ed23cee1938e": {
     "views": []
    },
    "4c4a05a077024071a3949df4c793c4d7": {
     "views": []
    },
    "4d17be51361442ebafef70af4740477b": {
     "views": []
    },
    "4d54d7c6352f4b4d8c883b68fd9cb9ce": {
     "views": []
    },
    "4d61e176db2f42b48b2e15a846c3ce04": {
     "views": []
    },
    "4d87e89440a74a9b932f3b9c28906ea5": {
     "views": []
    },
    "4d907350f5cd4942a328cefa610270e6": {
     "views": []
    },
    "4e7172d05e3f44ceab02d7ae9fe72b38": {
     "views": []
    },
    "4f31405412654ce797979a3992573178": {
     "views": []
    },
    "4f56af5c450a49abad15d275291c5a91": {
     "views": []
    },
    "4f638eea001c40f4a0ebe0cd72257926": {
     "views": []
    },
    "4fc31f2d184b4d6f8cecb3bae5b4ba98": {
     "views": []
    },
    "500936742163443780f27d4cdbc60f5e": {
     "views": []
    },
    "504e8e79d934470b9799e4fb0b168a2c": {
     "views": []
    },
    "5056018a17724a6fb5acb16aa917f642": {
     "views": []
    },
    "51d7a231055d47f78f47cb585d1f073f": {
     "views": []
    },
    "523440a7a9734df3ae0fd118aea699b3": {
     "views": []
    },
    "525dc5109502450b9e214c6b37aeccc8": {
     "views": []
    },
    "528511c9cdcf43ef8f3d35122d661c02": {
     "views": []
    },
    "52888036bd4541c2a38c45c0e99d9d9a": {
     "views": []
    },
    "53447fce77b34d5a80ded0c581307846": {
     "views": []
    },
    "537b04cdf6974625bc7d312d42b76328": {
     "views": []
    },
    "53dfc27437d849448213ca23ee3c0244": {
     "views": []
    },
    "540e4d68e99445778ad3e75481a093af": {
     "views": []
    },
    "54641665ba6a4a449b2aeaceab66ee2c": {
     "views": []
    },
    "546a382a25174c209e2bec485fcd726b": {
     "views": []
    },
    "546ca0cd52984d2d8c296ff22ae511b1": {
     "views": []
    },
    "552db54b609149b1b7c2dd83c1a76e7a": {
     "views": []
    },
    "55c242eabbed482e86c104037dcde6ab": {
     "views": []
    },
    "5638a50e908c42e3b48869325cb88eba": {
     "views": []
    },
    "563b846703c74c51b9a1d17eba8157d3": {
     "views": []
    },
    "5693c65f220d4d4393daf57cbd034c8a": {
     "views": []
    },
    "56c773785bcf4a77a9daf11e21801b56": {
     "views": []
    },
    "570220c609d342a8b02ce084fb13cce3": {
     "views": []
    },
    "57d5722737f34b938f0da61db8b0de13": {
     "views": []
    },
    "58032d1db25b489dbb54e042e2d05f16": {
     "views": []
    },
    "58cf2310e3b744628cc284a8dc8b0678": {
     "views": []
    },
    "58f10c183de14010b259de4787d50776": {
     "views": []
    },
    "597360e2927341f6836bcc9e9b81757d": {
     "views": []
    },
    "597407a0db494010a5e45d0ee5ba27b4": {
     "views": []
    },
    "5991b7c0351446c0a9cc4fa907da7a0d": {
     "views": []
    },
    "5a1c65e481ea4810adab1ca57f4e8ee9": {
     "views": []
    },
    "5a4662cf4c0c4bbf8a7b89b78d1d0c46": {
     "views": []
    },
    "5a657cec791147bfae81e978215614d3": {
     "views": []
    },
    "5a74e71d81284878bddf54f2219db462": {
     "views": []
    },
    "5b6ddb1f2871466682ae1f2d1e01cd0f": {
     "views": []
    },
    "5bbecf591c1a44e393459be7f7ace3e5": {
     "views": []
    },
    "5bc16afb57b54226a4496ac5cd377cce": {
     "views": []
    },
    "5bccef71c97b4725aeffc5a7ba0894e3": {
     "views": []
    },
    "5cf48701f4f24d61bceaa3acb98fa478": {
     "views": []
    },
    "5d5d0f4b04634a2689a2b059313faf35": {
     "views": []
    },
    "5d928c7923bd4afb86f971f209c9d356": {
     "views": []
    },
    "5e8c5594baf74a9fbdc8e397dc798637": {
     "views": []
    },
    "5eb07d920fd94c909f502e96538c7bbd": {
     "views": []
    },
    "5ebc7ab85ec040c79a3cb850ba21c842": {
     "views": []
    },
    "5f9d11fc54d7426aa3397cc1de370e8d": {
     "views": []
    },
    "6032de1b25664520837e905f9acc43e9": {
     "views": []
    },
    "607c70409ece437d81521b2516eff428": {
     "views": []
    },
    "60da9eed0f9841c9917c3799324d8a75": {
     "views": []
    },
    "60deea4b13274f1ea192cf1c80d93fba": {
     "views": []
    },
    "610d64246da146c6b1b2565bc3e12e9c": {
     "views": []
    },
    "61700a4cbf884adeb537faea8c5e4716": {
     "views": []
    },
    "63132b623d03470a9ec03197ddf9abab": {
     "views": []
    },
    "638641008f404022a354f6af8eccb7cb": {
     "views": []
    },
    "6409a9db65ab49e3bfdbed447943fb61": {
     "views": []
    },
    "64a6026c72f3455bb94d7369efa5e26e": {
     "views": []
    },
    "64fcd6929e9c4bfabe93dccecbda0533": {
     "views": []
    },
    "65a672b11836415ba53a3d201c4c3b20": {
     "views": []
    },
    "65bd2d47d6cf449c93ae4865882b73e2": {
     "views": []
    },
    "65cd7af2fd67412ea6eddd5bb00ab786": {
     "views": []
    },
    "65e39bf08c994ec7a9d81bf3fa140370": {
     "views": []
    },
    "65fad26206484be2bd6237bb1e3d781c": {
     "views": []
    },
    "66437cc15fdd426fad3f3f33c4372a60": {
     "views": []
    },
    "667fe8ba41ad471cb2a366b04ab81f1d": {
     "views": []
    },
    "66d69f64532340f1bf5b731513fe0899": {
     "views": []
    },
    "679b682ba0ca474dbce223570f691d36": {
     "views": []
    },
    "680dbe05033644b48d68281446527cda": {
     "views": []
    },
    "6816dd6a83c14597bfdcacac279ea2ed": {
     "views": []
    },
    "683330beb0b0422e880273ee5c1cd23d": {
     "views": []
    },
    "6944210cce6a44aa8195371007d22ccc": {
     "views": []
    },
    "6aa605d81fed4e89a41e58e35f40d75b": {
     "views": []
    },
    "6b44842d7e8d402ca8053f0805168d77": {
     "views": []
    },
    "6c535b6a4a474c7980b94fe7fe458045": {
     "views": []
    },
    "6c56070970ed4528a83fa0d62619cf93": {
     "views": []
    },
    "6c569d1b9da04078988c92f73eec8bf0": {
     "views": []
    },
    "6c9ac9eda7594a7ca937f463b12b4530": {
     "views": []
    },
    "6ce2393fc96142f087e07ee1c68c0fe3": {
     "views": []
    },
    "6d06b23bcfa04e91b642c5fe8888de61": {
     "views": []
    },
    "6d0fe03a70b34fa9833b9284fca65368": {
     "views": []
    },
    "6d11b642be5444689eaea97b335fcba5": {
     "views": []
    },
    "6d74bd9c2a39493787d78ee4b9e0602b": {
     "views": []
    },
    "6dbefed5143244c0a17c3684d95c87e4": {
     "views": []
    },
    "6e2f307bf02140f7b85b15ca7a92ba4c": {
     "views": []
    },
    "6f008ff15b774db38a90d1d2ce6d2ac5": {
     "views": []
    },
    "6f5275d5191c412987193df493441028": {
     "views": []
    },
    "6f78191422d44512a8cb7a3094722c36": {
     "views": []
    },
    "6ffdf1a507e04e8ba993ec1a4f90afb9": {
     "views": []
    },
    "707095dc52444e619949a6d1f02a98b9": {
     "views": []
    },
    "7070a552a4fe4962bd3f97a26e4f1324": {
     "views": []
    },
    "7077814ae63e4e82b31a8dad38cb0520": {
     "views": []
    },
    "707da55a679a4be6b266c4815a7babbf": {
     "views": []
    },
    "70ace470014e477ba568aeb7cc23a03a": {
     "views": []
    },
    "7163b8a1b0234d1eabb26ef99d86c3ba": {
     "views": []
    },
    "71d68d95f4aa48fe90ad0723ed0e7a25": {
     "views": []
    },
    "71dfdc4d8286402aac9fa26e9f8eb872": {
     "views": []
    },
    "7236b84ecbcb49d5a88722746626e81c": {
     "views": []
    },
    "72409c7748fa4f599ef4c92e60c7c4f6": {
     "views": []
    },
    "72470513ed3d4e059a226dcea3136cb2": {
     "views": []
    },
    "7367b4db386c45629fe3cc12e373a2e3": {
     "views": []
    },
    "737248f2be584cb8bb3730485a10fe32": {
     "views": []
    },
    "737ddb4d03c649fbaf672258abcb4039": {
     "views": []
    },
    "7435cde7ff7a4c8cac6861f438578041": {
     "views": []
    },
    "74960320a9644ec1b5dbc8d01420db6c": {
     "views": []
    },
    "74e6d96e96934f6db02a9dd3f342e61d": {
     "views": []
    },
    "74f79324b0284935886a782ff29e52c7": {
     "views": []
    },
    "7568125866104db4bc3bc2642d4664a1": {
     "views": []
    },
    "75b0e3815dd04f749fb62cb6933fcccc": {
     "views": []
    },
    "76ef01c5be6d49a091ec251ff1d45625": {
     "views": []
    },
    "76fcee4ad79941c896e757af58c29616": {
     "views": []
    },
    "7728013cf9a140a083838b1c6f559869": {
     "views": []
    },
    "77eb03d1d4934fb2994a526b799c12de": {
     "views": []
    },
    "77f40fcf395b4667877d07343905e6c7": {
     "views": []
    },
    "78a9bbe3525b41ada817984da6344764": {
     "views": []
    },
    "79175368b57c44c997f50d369a7e9782": {
     "views": []
    },
    "79670d2cc2bf444083e28d8e77b65733": {
     "views": []
    },
    "7ac2cc02a1b5440f9d57110df78106f0": {
     "views": []
    },
    "7af32339df4f4b38ba3d94172a1283d9": {
     "views": []
    },
    "7b0add8eae764eccba8af699dffa8bee": {
     "views": []
    },
    "7bd8cadbd3e64d6f82d0111b1df74c87": {
     "views": []
    },
    "7c7049d765194e579b3df9ad76439cc1": {
     "views": []
    },
    "7d2a2fc66cfe405e95f0066a4f53df5a": {
     "views": []
    },
    "7d35987a61fa4e47a5adcdb8d7d6ac59": {
     "views": []
    },
    "7e14d9c829174962bd38b2fd6a1f1113": {
     "views": []
    },
    "7e34a2c22f9843dda1beca396da24854": {
     "views": []
    },
    "7e76bf84352f4dda8b1e353ebca948af": {
     "views": []
    },
    "7ec15bd785174da2b14eedea964e4e51": {
     "views": []
    },
    "7f319ab82da84bd88e26233ef5f51eb6": {
     "views": []
    },
    "7f7193082ad14bcb84ffc36c457bbb28": {
     "views": []
    },
    "7fde2bd88752495daca83790b33dda0c": {
     "views": []
    },
    "7fe3125a3acb4b4da4a87064aa545b87": {
     "views": []
    },
    "804936645df048008d72470aec8ede99": {
     "views": []
    },
    "80d09017323a427486346e2086fa2b43": {
     "views": []
    },
    "8145556c03354811a3166a1ac088d36d": {
     "views": []
    },
    "83f1b4ac87b5467bb9ac3a0114b28c14": {
     "views": []
    },
    "842af56c7e6b4701b7c8c37309aebbd6": {
     "views": []
    },
    "844d7b02020e4bdfbd0caf415383fb78": {
     "views": []
    },
    "845a9e317c8b4311802580fa125e55c7": {
     "views": []
    },
    "847928c81ae64418a1598b2c33c1d7e1": {
     "views": []
    },
    "848f7ec83b7b4a168f64997c5c607333": {
     "views": []
    },
    "858a125d55744b04bbf4715defbe229a": {
     "views": []
    },
    "85eb510fa1dc4afc91f56a93b9f5142b": {
     "views": []
    },
    "85f182d9ba8749b88da12b6fab1867d6": {
     "views": []
    },
    "8604a55df31d430f9cda6d66d5d34b10": {
     "views": []
    },
    "862fb480c3ec4d0e9983235edfb7e4e6": {
     "views": []
    },
    "869dbcc27bfd4d80b54d8b517a211abe": {
     "views": []
    },
    "875fe5248a534f78b5fda6065e8e7a59": {
     "views": []
    },
    "87f979a6fd674230b8d18e6bbc86253a": {
     "views": []
    },
    "8824140d9f114993b9e521edcf11e27d": {
     "views": []
    },
    "882661b234c64affb177c7a2e4f54fb2": {
     "views": []
    },
    "882b7300310e4e20bb5380345925d9ef": {
     "views": []
    },
    "887789c57e4043d3a2fa4bec63518c63": {
     "views": []
    },
    "8930f07db3bc4d99a423f0d2fd9992bf": {
     "views": []
    },
    "89abab01e4854ff3a5c9bcfe430d4c70": {
     "views": []
    },
    "8a4db4aa9d094b5bab4d4a44bda2eb65": {
     "views": []
    },
    "8a7effb3227044da8da849c8d6a41dc8": {
     "views": []
    },
    "8a9b0a37aa2941a7a3a4ba5717bbeee5": {
     "views": []
    },
    "8afa366d7e2244989be8bff35e74fbaf": {
     "views": []
    },
    "8b252bd0d96d46a1a2035e632e61fd14": {
     "views": []
    },
    "8b583ab5caed4ef9b59cfcab1e39113a": {
     "views": []
    },
    "8b77436d980e45ec8ea9761a106c3bee": {
     "views": []
    },
    "8ba91d39bd8e4a128b900bd823073d1c": {
     "views": []
    },
    "8bbd8ac95b4646429d5f4f091441e13e": {
     "views": []
    },
    "8c2b6fe22b63497aa94b79cacf8d7df2": {
     "views": []
    },
    "8ccef17618eb441ca78925a55fb2650b": {
     "views": []
    },
    "8d5be00792244d5caf4652f4b54cb5e8": {
     "views": []
    },
    "8d85100be7e748c19266b34f9541daf2": {
     "views": []
    },
    "8df8b82e43e54db09806608d20fd0bca": {
     "views": []
    },
    "8e025f016fe44fdcbbaeab3ec463ea77": {
     "views": []
    },
    "8e9b4d03e55747128ca2d381ec55ee41": {
     "views": []
    },
    "8eb2e887717642acafcde44dfbfe18f0": {
     "views": []
    },
    "8f8ea4be30594397bcf05c88718c5a81": {
     "views": []
    },
    "900c4104b8534a55b765ad392a33e3d8": {
     "views": []
    },
    "9082026488444447b699f82e4f9d1537": {
     "views": []
    },
    "90b5bdf81a384cf99bf9c68a9d9596e0": {
     "views": []
    },
    "913b4768857a444792268be446a09a3f": {
     "views": []
    },
    "916a206fa02a42ffac0ad1f6baf36521": {
     "views": []
    },
    "9246a66b1fb34ae5a0ee0eab651eccfb": {
     "views": []
    },
    "92bbf09f79474657bc89ec3b23eba19f": {
     "views": []
    },
    "92c28ce33d3941e3be91372906e188b0": {
     "views": []
    },
    "92c668c2412849af860fd166a2ba8af7": {
     "views": []
    },
    "92fe35ae314246c48b0863bca3982455": {
     "views": []
    },
    "93c2597a0ff1435a841c2cb4a6769208": {
     "views": []
    },
    "93d6ed83a45440509e2fb55aa6567454": {
     "views": []
    },
    "94a610efd24a4e2eb010efe25c6cea21": {
     "views": []
    },
    "94f31c450119418587f2e76a344f9fad": {
     "views": []
    },
    "953cac74b5474ccabd6b3112c74f76c9": {
     "views": []
    },
    "956fdb4580b54afe8c5d3499d533d45c": {
     "views": []
    },
    "95c7fddffbf444fbb0c6dd8992b7dfc9": {
     "views": []
    },
    "95e713ec5ce645c690958beb6d575d92": {
     "views": []
    },
    "95f229f1f59d413688b890edcf5c3ba6": {
     "views": []
    },
    "9663936ffecb4fe4ae5ddbfd7136101c": {
     "views": []
    },
    "96b84f1b11134e61bb3453d058e317f0": {
     "views": []
    },
    "96bc40edc6b64ab8a5b3a2bf0119f245": {
     "views": []
    },
    "96bd45a83cbe4617984754dab4cf3b2f": {
     "views": []
    },
    "96e8a1eb6e6c478b943a80e6c0f24c68": {
     "views": []
    },
    "96fd2d83934644489fee68c5fa1b5483": {
     "views": []
    },
    "972e693d9bcc455697994d73d2c8efbf": {
     "views": []
    },
    "97305c149cd2490d9e4fe233d4ef4804": {
     "views": []
    },
    "9744041d27fb453799e8a378cb15ae97": {
     "views": []
    },
    "97c0a04cbd4040efad3c24cf94882ea1": {
     "views": []
    },
    "97d6fac89621474299c5bf9cf02dd292": {
     "views": [
      {
       "cell_index": 3
      }
     ]
    },
    "97db5a5e4265466c9bc566e8fd7cdfcb": {
     "views": []
    },
    "97ee0b1f076f4403b80ca6da29db5201": {
     "views": []
    },
    "981bddd8d74247df93de4b84e5cd5ba5": {
     "views": []
    },
    "985af6923a984a4e9c2333be46dc64ce": {
     "views": []
    },
    "98b26a0de2f245cb965e06abde9d500f": {
     "views": []
    },
    "990ee8af5f3a4e21b586fa989c8ce736": {
     "views": []
    },
    "9ab56c346fd94d7bbb5b4381654ac838": {
     "views": []
    },
    "9ad54e4402e847a29d96cf5444724baf": {
     "views": []
    },
    "9ae4eeca3b5847d084dec20e25d19a79": {
     "views": []
    },
    "9b17acd66d704c0d8888c63a7ec4edb0": {
     "views": []
    },
    "9b286ed4e6924dea96c3951e530ce60c": {
     "views": []
    },
    "9b7bd8290bbd4df78d2249dc570fa942": {
     "views": []
    },
    "9b8ec6c8963941b889218d468f56ae52": {
     "views": []
    },
    "9c341e1520ea4d808a663051d4134098": {
     "views": []
    },
    "9d74fd7b143f47b2b124349b10f0894e": {
     "views": []
    },
    "9dc1e874adf64c4f825ff7e9e25e9c69": {
     "views": []
    },
    "9e0999aba42a4d5aa9b9e1e3a570a403": {
     "views": []
    },
    "9ea8207dfb6a4f73ac71e3556464ee89": {
     "views": []
    },
    "9ead8808b3f24f1aa48fe718de522701": {
     "views": []
    },
    "9f151cc270f94dd0b705131785de8cf1": {
     "views": []
    },
    "9f4c07feb2cb4bdfa5ffdf56a7ff3a41": {
     "views": []
    },
    "a0312963aab146138c4227cee2dd05eb": {
     "views": []
    },
    "a20cd2250115486c95551bcbc31fde70": {
     "views": []
    },
    "a31699c8ae484ee5a141c99d24368727": {
     "views": []
    },
    "a31a89eed01b4ee1992ede9e7a51eeaf": {
     "views": []
    },
    "a34b511fbcbe4657851aa839a9d44056": {
     "views": []
    },
    "a481063488d24814904b0377983464dd": {
     "views": []
    },
    "a4c9883f427644a0b9c7a454478f5974": {
     "views": [
      {
       "cell_index": 5
      }
     ]
    },
    "a54f43fb58354e84a4ed4bd43de3e314": {
     "views": []
    },
    "a55fced9933b4b9eb3a8a3d63849bbca": {
     "views": []
    },
    "a562e353468046cebee548a2b8d00625": {
     "views": []
    },
    "a5676458bec04d559eb9e3e4b557e660": {
     "views": []
    },
    "a690cb7f335e477ba78da3fe7ba270cb": {
     "views": []
    },
    "a69b9272904e41728973fe6a4d0c01dc": {
     "views": []
    },
    "a6a962bd0c0944afb04ad7e2309257f8": {
     "views": []
    },
    "a6bf12db84114889b6409c9cbee26b9b": {
     "views": []
    },
    "a6cf3837d44647a6ba6683e0c21b19d7": {
     "views": []
    },
    "a6d96671e1e9408ebd68cd2c0efdec4d": {
     "views": []
    },
    "a6e77de2404e4eb3a9899e67fb10f037": {
     "views": []
    },
    "a73a02e45f944a3faad6f02a8b8b6a47": {
     "views": []
    },
    "a7ae6f244b804411be94ead859bac371": {
     "views": []
    },
    "a7faddbe15d64691ab583d5f182ecca3": {
     "views": []
    },
    "a83e4abac1b243dfa19c703afa3d48e8": {
     "views": []
    },
    "a85822cd7c6b48748c6ba4e6b480646e": {
     "views": []
    },
    "a8ba304b18674c4cbb9c18c852e87054": {
     "views": []
    },
    "a911fdc0599749328f3eb152f656bc36": {
     "views": []
    },
    "a93f796ee4f54b9cb75fdfbf2cc1da41": {
     "views": []
    },
    "a956da604ac540fe9f48f27b9a53b6f8": {
     "views": []
    },
    "a981070e9f4e4d668c4ecf9033b94f0d": {
     "views": []
    },
    "a9aa3918b67d4a16bc6e79d6288d86e9": {
     "views": []
    },
    "a9e7c07de66846ae8a71f1ba3de58a71": {
     "views": []
    },
    "aa12bd19282f4e6c8a33fbf3d9d431b8": {
     "views": []
    },
    "ac70029db2384518a8c59b1ef62860b0": {
     "views": []
    },
    "acdef5713aa64059b072df66e0df35cd": {
     "views": []
    },
    "ad0e207be48e49d1b8859a721c9a49b0": {
     "views": []
    },
    "adcca556454e4b1aac89dabedaedbe0d": {
     "views": []
    },
    "add89a38e59144588c32b69052cbcc56": {
     "views": []
    },
    "ae40b427f7644936a74f9992fbdce4d2": {
     "views": []
    },
    "aeca50d722ce4ad790d57a03f5b60a2c": {
     "views": []
    },
    "af39f8349c594829a64ebe21946bfc70": {
     "views": []
    },
    "b0002948e10a4ad3b14c4c4a6ff0f1dc": {
     "views": []
    },
    "b019407005b34da983aa205964a46b4c": {
     "views": []
    },
    "b06b7a1dd55d457da3ab20b162905399": {
     "views": []
    },
    "b0dc145b74c04638ab2ad35be95c8ff3": {
     "views": []
    },
    "b0e9e0d5739b4645a9b35d8a5cfcee6e": {
     "views": []
    },
    "b11a394f774545f3ab64d4cad0f3a7f0": {
     "views": []
    },
    "b125fe5856b54e30b5d40f38ef672c63": {
     "views": []
    },
    "b126c074e6d74d97aee04981c5653fdb": {
     "views": []
    },
    "b12867b3ce0542939193a1eb2c451045": {
     "views": []
    },
    "b15b146721e640569db96d89c2305a12": {
     "views": []
    },
    "b18ffa4273a94126aa0c16150882803c": {
     "views": []
    },
    "b1f45d923b0c49349df3549912fcb86f": {
     "views": []
    },
    "b2e01a34593e41cdbb40e90eff633f28": {
     "views": []
    },
    "b2ffa91725464a879113a5488448d19b": {
     "views": []
    },
    "b308a9d5a1864b09896e23cef6595d7c": {
     "views": []
    },
    "b427248c92b44f53ab9a9bda52a2deb6": {
     "views": []
    },
    "b478887c9a3a44c3a631b657cc8000e7": {
     "views": []
    },
    "b48a98f1817b4ce49fa97bc81adb6b4c": {
     "views": []
    },
    "b4c88e83fa3b42a08a3967265c044a27": {
     "views": []
    },
    "b4e64147bfac43edacc6197ca8d14245": {
     "views": []
    },
    "b519c72770fe4a0d840ead6b4de584b8": {
     "views": []
    },
    "b520c450da154c05ae5ee5e85a61e8d7": {
     "views": []
    },
    "b60fb56bb84c4ef4bc19fbb303aabe47": {
     "views": []
    },
    "b65c9709858647e1b6d40a2b160ec350": {
     "views": []
    },
    "b6654c2de0544211a1b798e87acc6021": {
     "views": []
    },
    "b725ce9d008444ab82f0f1d37b4b5595": {
     "views": []
    },
    "b7266cd020624ee2ac13d0f452eb3564": {
     "views": []
    },
    "b72982ae669f4ceb869860b69642f62a": {
     "views": []
    },
    "b740b4aaf9e444afad22f55d96cccd12": {
     "views": []
    },
    "b7ca1ed1718e4c828f6d0933fc2bc90d": {
     "views": []
    },
    "b83c9c819ef546cbbb4851bf1b891392": {
     "views": []
    },
    "b86355245f524cadb96e87d8f5f3bfd7": {
     "views": []
    },
    "b8e8cf4bc769438eaf7271ae77e815c6": {
     "views": []
    },
    "b9bb8009bf9449508dffa4157967a05a": {
     "views": []
    },
    "b9db143a613b4827b2207598d44b3faf": {
     "views": []
    },
    "ba561e2394ca4aabb3eab18cdb2a0aa1": {
     "views": []
    },
    "babfe4ffc55a43c5853565180124cb77": {
     "views": []
    },
    "bb104aa19a07476f816f217d7f62d22c": {
     "views": []
    },
    "bb392576680b47e9ab814e0941b8684d": {
     "views": []
    },
    "bb6916dc0cb241a18992565c80857ca2": {
     "views": []
    },
    "bb6dcf5594e847a2b85c4b99a0120fc3": {
     "views": []
    },
    "bbbad0b08b7f4ac8b90d830aaa7ddf4d": {
     "views": []
    },
    "bbc84a0426084f4aa9dd5dee440eec41": {
     "views": []
    },
    "bbf5dbf9ef33402eb87a7ec81109dca5": {
     "views": []
    },
    "bc01960016c34f3ebf8ff3e5e24b590e": {
     "views": []
    },
    "bc57ac12357a4f979d544d906213a436": {
     "views": []
    },
    "bcb4ba1099a24987a6b0b0ea155fba10": {
     "views": []
    },
    "bd325535e1e24eeba849252defb8f258": {
     "views": []
    },
    "bd5eb8038916494da7bdbbbd9868a3a4": {
     "views": []
    },
    "bd82857a93914bbcbb298f18e47c81aa": {
     "views": []
    },
    "bda9bad0796b48a1af564e1ac04c6368": {
     "views": []
    },
    "bdc285f535ce4251a21c54bd2f156241": {
     "views": []
    },
    "bdf136ef45d34cef8d3e11f6742f3246": {
     "views": []
    },
    "bea18d9fd7fd4f3487e33ee639f49228": {
     "views": []
    },
    "bed52743f1844962ad4a84f319cb5e77": {
     "views": []
    },
    "bfb6005734c04e28a1b1b1fc60d70afa": {
     "views": []
    },
    "bfe53f1052f54b2e9c415db1653c5574": {
     "views": []
    },
    "bfe87dea77cd409d9f684bf9fe7abb71": {
     "views": []
    },
    "c14221587c4147bfb74232093ef5560f": {
     "views": []
    },
    "c14e980dbf834aa0802a80c636994018": {
     "views": []
    },
    "c177e99938894a82a18a4e876ac8fc08": {
     "views": []
    },
    "c17d977692e740f89e6c9eeae02e6771": {
     "views": []
    },
    "c1a9d79aa69841c2b76268a0a6ed7d3d": {
     "views": []
    },
    "c1db2d13bf8d4a969270486506c97823": {
     "views": []
    },
    "c2442079f99a4cd19ab941b0370f1165": {
     "views": []
    },
    "c253be0f06d548b9a60e603a7bf05ea6": {
     "views": []
    },
    "c2c1bb4766064abc954440788aeb8de9": {
     "views": []
    },
    "c4fb0ea1abb44e7c9612f81930d2fac9": {
     "views": []
    },
    "c531529c80d540679c4153b5827bd994": {
     "views": []
    },
    "c579b309cc4a40149225e2604f9800be": {
     "views": []
    },
    "c59815a7e027495990a833ef3c05a8b8": {
     "views": []
    },
    "c5c68e9d70a14404b14a506072dde35b": {
     "views": []
    },
    "c5d0556cfb4e47d1ae05240be630b1e6": {
     "views": []
    },
    "c6052cd926884b209a1644eb38f9fb25": {
     "views": []
    },
    "c6149abeff5a4f8ca6ed9b84e3943623": {
     "views": []
    },
    "c61e8e291aa44934b51fb7497d191aa6": {
     "views": []
    },
    "c6a472ad9b384bfb8f01266426d392b8": {
     "views": []
    },
    "c745df2019144a39beb9ebadee36afea": {
     "views": []
    },
    "c780fd5c3b0845dda8267ee0427aa46d": {
     "views": []
    },
    "c7f97e01cdf145278c309b6073ebac4d": {
     "views": []
    },
    "c85f2661cb6f4032af2c20d1ecfe6238": {
     "views": []
    },
    "c893833206044efda8eae650eb8a269b": {
     "views": []
    },
    "c8be414eee524401a0c8da3b07043630": {
     "views": []
    },
    "c95f77073a65448787c7b45f024e9bbe": {
     "views": []
    },
    "cab49b06ecfb488ab3d893a112137d43": {
     "views": []
    },
    "cae97a911c754feeb6451511ad0befad": {
     "views": []
    },
    "cb204c522e344a10bd81eb4bff7af839": {
     "views": []
    },
    "cccb3fb7783a4f34919aea95b5d35fa2": {
     "views": []
    },
    "cd8e6629b90344c58c0ca02e8948cd9e": {
     "views": []
    },
    "cdb3f7c29b4044b1a18340e01a70eb35": {
     "views": []
    },
    "cdd3827943a148dfb1fbdcf611bff590": {
     "views": []
    },
    "ce97aa36714344aba2dd3cf536ebcca1": {
     "views": []
    },
    "cf67268698134d69ba27235c35491c80": {
     "views": []
    },
    "cfff914809714a5194a4c2f6fd1dc465": {
     "views": []
    },
    "d0dc5f24c179430096db248c91233a7d": {
     "views": []
    },
    "d0eb1c2b96914b4c85441acc3866792e": {
     "views": []
    },
    "d16c6336f2414fa88f83c6d60c0e5294": {
     "views": []
    },
    "d18ceb6b2f5544d58a07ebce0aa063b1": {
     "views": []
    },
    "d23d243d406c4ffb83e96b6cb56bd342": {
     "views": []
    },
    "d36ef4f7478a487483dc96a4f2056df1": {
     "views": []
    },
    "d36f1457aefe493fa1a1efc89df66c50": {
     "views": []
    },
    "d37b62af6c9843b3a9309548ab9de7a1": {
     "views": []
    },
    "d3e36a109284471e88fd02124fd97a7e": {
     "views": []
    },
    "d43383f88063470999f3226c275513eb": {
     "views": []
    },
    "d4d733519c2548249b028daa00e663eb": {
     "views": []
    },
    "d51d42192645487a84c9ba252485f203": {
     "views": []
    },
    "d5c7b2219890462289ef5976fec5a040": {
     "views": []
    },
    "d678b0202a1e4574bce2fdb2c5a3b9cc": {
     "views": []
    },
    "d6e8f26fdaf44b2dbc15020db3848b14": {
     "views": []
    },
    "d733953cb09e4dd19752476998aeab61": {
     "views": []
    },
    "d7851c03b6fb4403be014c4d305246c7": {
     "views": []
    },
    "d82398bb8c4d4f5283fc984916aa6fde": {
     "views": []
    },
    "d83a503dd7f548628f113b94ad784c4b": {
     "views": []
    },
    "d898611254624990a404f87ac3d55afa": {
     "views": []
    },
    "d919bb579c2b4b3ca4e5dc077926cbb5": {
     "views": []
    },
    "d9cbf266706e4a5f9bfbe3a6b03586d4": {
     "views": []
    },
    "d9e7ef819eff48abb3636ee8b17651eb": {
     "views": []
    },
    "da37d721d83e42b092a83315b2d3c758": {
     "views": []
    },
    "da8c9883b18f4ccfacf3e4468bdd081f": {
     "views": []
    },
    "dad8d959498c475480ec0a77c2ab2e68": {
     "views": []
    },
    "db5d301abb414dfcbac0314b7c3a0ec2": {
     "views": []
    },
    "dc8b5ac2c94c494da76820e6ba38974f": {
     "views": []
    },
    "dcbd833e229c4ff39f732a08969a4734": {
     "views": []
    },
    "dd14e0ed0728443a961dfc44add1fabc": {
     "views": []
    },
    "dd47cf2c21a0475a89a8709821c28227": {
     "views": []
    },
    "dd5697ee439b4f1c9f101856f2bf82f6": {
     "views": []
    },
    "dde1c3365bfb49e192cbdd524c76032d": {
     "views": []
    },
    "de7fbea7eac24458a9affced7718b8fd": {
     "views": []
    },
    "de8c3b9adb5b415b896c461527028a00": {
     "views": []
    },
    "dedeed8fa028431e853df4efcddd171d": {
     "views": []
    },
    "df06072076c04505ba82e293bc94e63c": {
     "views": []
    },
    "df18bfdd635345169c44e86a5f699431": {
     "views": []
    },
    "df2a15d14b1a47c4834a50969e7eef11": {
     "views": []
    },
    "dfcf852a4e08425e9811ee0be565f3c9": {
     "views": []
    },
    "dfeb3d11139d4ed0b59480bce3397226": {
     "views": []
    },
    "dfffd5a56517493db73e3c44f7846631": {
     "views": []
    },
    "e008da5553624bb0a9457421d88a5c5c": {
     "views": []
    },
    "e0c14778368f4002bbf9744ae7f7406b": {
     "views": []
    },
    "e190b7d2aae442438d8306071b24add0": {
     "views": []
    },
    "e1b7734d5d14487cb4f69c3b9ad895c9": {
     "views": []
    },
    "e1bd1c66df6d483ab02089526bbf1f4f": {
     "views": []
    },
    "e23332a4a89f49fb964a12869e647705": {
     "views": []
    },
    "e23e4e3bfb1b441ca29743a359372c16": {
     "views": []
    },
    "e3369366f1944c5187693e31d2b870b5": {
     "views": []
    },
    "e3d061ae179244a593760f0aebf70be6": {
     "views": []
    },
    "e4e8178d421f4d8cb58a38a1d002f420": {
     "views": []
    },
    "e59d89ab59e14c9d8475f128dcdab012": {
     "views": []
    },
    "e6ec880e293847818ae146b5ffc6ac6f": {
     "views": []
    },
    "e788254d76284002b57194de89f4175e": {
     "views": []
    },
    "e797c4234e4c4b93aa15711b8e26960a": {
     "views": []
    },
    "e7bbc8c8316a4ec1be90b1279dd1700b": {
     "views": []
    },
    "e7e5a76ca5dd4092be1d4469189bced6": {
     "views": []
    },
    "e7eae3b7771349bc8f9d4976b8b55011": {
     "views": []
    },
    "e7ef06a4dcc14aef9446798d51a416cf": {
     "views": []
    },
    "e81e9ac5bceb4768a87eccbdca77962a": {
     "views": []
    },
    "e849c00c77b74f52b47d8094676d68ea": {
     "views": []
    },
    "e86ae5fc53af47ca8360f31c777bf13f": {
     "views": []
    },
    "e96dfeee3937449e824e499ed121d7b7": {
     "views": []
    },
    "e97d692e83b444069e7c6fc5c76a08b1": {
     "views": []
    },
    "e9f12ce2f9c54a90a34aba6ce388ddab": {
     "views": []
    },
    "e9f5e5765f5143bd92eb355f5b94ffda": {
     "views": []
    },
    "ea0ce60419944e0380982b3552bf59e2": {
     "views": []
    },
    "ea1cf27b91df4dc4838defe15c114ac6": {
     "views": []
    },
    "ea581335a68b44ee9a25828cdcd14ec2": {
     "views": []
    },
    "ea738f8e8133461a91545d44953290f1": {
     "views": []
    },
    "eae80d1817de4bcbb37eeacbb7e3eb9b": {
     "views": []
    },
    "eb9d03ea4930407cb39ee2f401248b56": {
     "views": []
    },
    "ebc783732b094fc58a1f8c82224be116": {
     "views": []
    },
    "ed7fd510626a4044bae399103b77080a": {
     "views": []
    },
    "ed89b2512f5c4a23a238850a48946dbe": {
     "views": []
    },
    "eda6849d8eab46f1ac1e471df38329d0": {
     "views": []
    },
    "ee2d524c03d94ca6a064e428a0b18c78": {
     "views": []
    },
    "ee32cb5b6aff43a69280f583d073cc68": {
     "views": []
    },
    "ee5bb319f2cd454a888119a0b0a9e163": {
     "views": []
    },
    "ee6dcf3f32a043679e6fd2ef69f292f1": {
     "views": []
    },
    "ee7746be3d754a8e82e071a0551aa656": {
     "views": []
    },
    "eed1b0e8e420479c9badefd98ce0dabc": {
     "views": []
    },
    "ef2a4bd53daa4e3b90d959c01098f7aa": {
     "views": []
    },
    "ef2dedf363ea4f42ab2ca188a509b709": {
     "views": []
    },
    "ef3dd66eb6ad48bcb701652f10cdb2dc": {
     "views": []
    },
    "ef70b6ba97e74cd6832cae4e246e2fc6": {
     "views": []
    },
    "ef76ce27a30e4d9487fbaa9e1077b307": {
     "views": []
    },
    "ef79303ced9c4a9e93bc9d2c093f11f2": {
     "views": []
    },
    "ef95364189fe4774b095c08ffd00d58b": {
     "views": []
    },
    "efbe893ec0ad4f6c80163b31fe33c87a": {
     "views": []
    },
    "f032a352afee41008bd045d7529e8754": {
     "views": []
    },
    "f08f3a3eb0a74dd2bc07e6cbab507897": {
     "views": []
    },
    "f118d76aa3ce4e698d437a152be7a070": {
     "views": []
    },
    "f1caae8a6f284b278cd6a47aff54f99a": {
     "views": []
    },
    "f1ce6af3bd074d7aa9edd7497c2ec8d3": {
     "views": []
    },
    "f22abb218d50483b92744c6726170c08": {
     "views": []
    },
    "f24945ba9eec4926b730d572a983e524": {
     "views": []
    },
    "f2e3e2d0fd6d4f55876d69a3904282c0": {
     "views": []
    },
    "f3323b18c4a8423381717c708af817c8": {
     "views": []
    },
    "f4e9ce5c24204d059192e4a5a265026e": {
     "views": []
    },
    "f535a415c38644628c126e7380252480": {
     "views": []
    },
    "f54692f2130a41a8a77152184383345b": {
     "views": []
    },
    "f5b4b6ff01d4405c8ef8f8f317e54be8": {
     "views": []
    },
    "f6005a791b8e489cb5054082ff20779a": {
     "views": []
    },
    "f6459bff48394466a86a9094bb5f5b89": {
     "views": []
    },
    "f6aa819475864f63927a4f6140ae647c": {
     "views": [
      {
       "cell_index": 22
      }
     ]
    },
    "f6c04f7afede4f05a28640509e556502": {
     "views": []
    },
    "f6edaf2e83b04c189bab27f81311e714": {
     "views": []
    },
    "f749976672b14a068c901f9091699aea": {
     "views": []
    },
    "f74e2f5731ee4fbc904f5ea03c2565fe": {
     "views": []
    },
    "f7d6d357ffd04c2381120d9cd18745ad": {
     "views": []
    },
    "f8221502652d42cebd144093b88d7a57": {
     "views": []
    },
    "f8313da67e63482bb704a4ab3c650f18": {
     "views": []
    },
    "f920228b4a6c4021964a4ba8f2056f07": {
     "views": []
    },
    "f9752e4101574879828040f9a21f6d21": {
     "views": []
    },
    "f97cb707743c4b8fbba675b26c539d1d": {
     "views": []
    },
    "f9b21f29a5824f84b44d1ed53a107706": {
     "views": []
    },
    "f9efe4b31f7b4eb38da05932048ff2af": {
     "views": []
    },
    "fa3c5fb7ef3b4a168b5821b81b976017": {
     "views": []
    },
    "fa6c3ca723804706a7dbf7c590f52401": {
     "views": []
    },
    "fab78b3986724711bff0e74d9e3a2906": {
     "views": []
    },
    "fb60b4ff844a42f1bdf2dd055c2d52c7": {
     "views": []
    },
    "fb8776fd51294c7e933e3c143a55e7ae": {
     "views": []
    },
    "fb92dd8eeab94bbe93e348d65871b44a": {
     "views": []
    },
    "fbeeaf122ef0486a8f0278b77f9f586e": {
     "views": []
    },
    "fc2fc6946e1f48f383b33c9401db027e": {
     "views": []
    },
    "fc6cbcf515cd40a1b76eed0cc4242f2c": {
     "views": []
    },
    "fd4ddbd047d0476da8a0a1ebbbdc778e": {
     "views": []
    },
    "fdbf8bb2da76493cbd9bfca7bbe33057": {
     "views": []
    },
    "fdf32c27824a498eb24c2cde194a70c4": {
     "views": []
    },
    "fed9f24c053443aa85599884443df1aa": {
     "views": []
    },
    "fee52c7df1ac4b098ba5cb64eca052c3": {
     "views": []
    },
    "ff20fcca78e0474d8a2a3e44ccd0d406": {
     "views": []
    },
    "ff56cb333d1644bebc5c9e364162abcf": {
     "views": []
    },
    "ff75cd610dfe4cc196ff8cd84cb96b7d": {
     "views": []
    }
   },
   "version": "1.1.2"
  }
 },
 "nbformat": 4,
 "nbformat_minor": 2
}
