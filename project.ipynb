{
 "cells": [
  {
   "cell_type": "code",
   "execution_count": 1,
   "metadata": {
    "collapsed": false,
    "deletable": true,
    "editable": true
   },
   "outputs": [
    {
     "name": "stderr",
     "output_type": "stream",
     "text": [
      "Using TensorFlow backend.\n",
      "/Users/tempflip/.conda/envs/carnd/lib/python3.5/site-packages/IPython/html.py:14: ShimWarning: The `IPython.html` package has been deprecated. You should import from `notebook` instead. `IPython.html.widgets` has moved to `ipywidgets`.\n",
      "  \"`IPython.html.widgets` has moved to `ipywidgets`.\", ShimWarning)\n"
     ]
    },
    {
     "name": "stdout",
     "output_type": "stream",
     "text": [
      "Label names ['Speed limit (20km/h)', 'Speed limit (30km/h)', 'Speed limit (50km/h)', 'Speed limit (60km/h)', 'Speed limit (70km/h)', 'Speed limit (80km/h)', 'End of speed limit (80km/h)', 'Speed limit (100km/h)', 'Speed limit (120km/h)', 'No passing', 'No passing for vehicles over 3.5 metric tons', 'Right-of-way at the next intersection', 'Priority road', 'Yield', 'Stop', 'No vehicles', 'Vehicles over 3.5 metric tons prohibited', 'No entry', 'General caution', 'Dangerous curve to the left', 'Dangerous curve to the right', 'Double curve', 'Bumpy road', 'Slippery road', 'Road narrows on the right', 'Road work', 'Traffic signals', 'Pedestrians', 'Children crossing', 'Bicycles crossing', 'Beware of ice/snow', 'Wild animals crossing', 'End of all speed and passing limits', 'Turn right ahead', 'Turn left ahead', 'Ahead only', 'Go straight or right', 'Go straight or left', 'Keep right', 'Keep left', 'Roundabout mandatory', 'End of no passing', 'End of no passing by vehicles over 3.5 metric tons']\n",
      "Points in set: 39209\n"
     ]
    }
   ],
   "source": [
    "import pandas as pd\n",
    "import matplotlib.pyplot as plt\n",
    "import numpy as np\n",
    "from keras.models import Sequential\n",
    "from keras.layers.core import Dense, Activation, Flatten, Dropout, Lambda\n",
    "from keras.layers.convolutional import Convolution2D\n",
    "from keras.layers.pooling import MaxPooling2D\n",
    "from keras import backend as K\n",
    "from keras.models import load_model\n",
    "import tensorflow as tf\n",
    "from sklearn import preprocessing\n",
    "from skimage import exposure\n",
    "from os import listdir\n",
    "from scipy import misc\n",
    "import csv\n",
    "from math import *\n",
    "import random\n",
    "from ipywidgets import widgets\n",
    "from IPython.display import display\n",
    "from IPython.html.widgets import *\n",
    "import json\n",
    "\n",
    "\n",
    "%matplotlib inline\n",
    "\n",
    "full_df = pd.DataFrame()\n",
    "\n",
    "PATH = 'GTSRB/Final_Training/Images'\n",
    "NORM_W = 32\n",
    "NORM_H = 32\n",
    "\n",
    "for label_dir in listdir(PATH):\n",
    "    try: label_dir.index('000')\n",
    "    except ValueError: continue\n",
    "    my_path = '{}/{}/'.format(PATH, label_dir)\n",
    "    df_csv = pd.read_csv('{}/GT-{}.csv'.format(my_path, label_dir), sep=';')\n",
    "    df_csv['Path'] = my_path\n",
    "    full_df = pd.concat([full_df, df_csv])\n",
    "    \n",
    "\n",
    "full_label_names = []\n",
    "with open('signnames.csv', 'r') as f:\n",
    "    reader = csv.reader(f)\n",
    "    for row in reader:\n",
    "        full_label_names.append(row[1])\n",
    "\n",
    "del full_label_names[0]\n",
    "\n",
    "print ('Label names', full_label_names)\n",
    "print ('Points in set:', len(full_df))\n",
    "\n",
    "df, label_names = full_df, full_label_names"
   ]
  },
  {
   "cell_type": "code",
   "execution_count": 2,
   "metadata": {
    "collapsed": false,
    "deletable": true,
    "editable": true
   },
   "outputs": [
    {
     "name": "stderr",
     "output_type": "stream",
     "text": [
      "/Users/tempflip/.conda/envs/carnd/lib/python3.5/site-packages/ipykernel/__main__.py:10: SettingWithCopyWarning: \n",
      "A value is trying to be set on a copy of a slice from a DataFrame.\n",
      "Try using .loc[row_indexer,col_indexer] = value instead\n",
      "\n",
      "See the caveats in the documentation: http://pandas.pydata.org/pandas-docs/stable/indexing.html#indexing-view-versus-copy\n"
     ]
    },
    {
     "name": "stdout",
     "output_type": "stream",
     "text": [
      "Signs: ['Yield', 'Keep left', 'Roundabout mandatory', 'End of all speed and passing limits', 'Road narrows on the right']\n",
      "[0 1 2 3 4] [2160  300  360  240  270]\n"
     ]
    },
    {
     "data": {
      "image/png": "[encoded data removed]",
      "text/plain": [
       "<matplotlib.figure.Figure at 0x1194db5f8>"
      ]
     },
     "metadata": {},
     "output_type": "display_data"
    }
   ],
   "source": [
    "## This for reducing the set -- for test reasons\n",
    "\n",
    "\n",
    "def reduce_set(n):\n",
    "    tdf = pd.DataFrame()\n",
    "    t_label_names = []\n",
    "    class_id_set = random.sample(range(len(full_label_names)), n)\n",
    "    for i, class_id in enumerate(class_id_set):\n",
    "        selected = full_df[full_df['ClassId'] == class_id]\n",
    "        selected['ClassId'] = i\n",
    "        tdf = pd.concat((tdf, selected))\n",
    "        t_label_names.append(full_label_names[class_id])\n",
    "    return tdf, t_label_names\n",
    "\n",
    "df_container = widgets.Text()\n",
    "label_names_container = widgets.Text()\n",
    "\n",
    "@interact(n=widgets.IntSlider(min=2, max=len(full_label_names),step=1,value=5, description=\"Reduce set to N type of signs\"))\n",
    "def set_size(n):\n",
    "    df, label_names = reduce_set(n)\n",
    "    df_container.value = json.dumps(df.values.tolist()[:])\n",
    "    label_names_container.value = json.dumps(label_names)\n",
    "    print (\"Signs:\", label_names)\n",
    "    class_ids, count = np.unique(df['ClassId'].values, return_counts=True)\n",
    "    print (class_ids, count)\n",
    "    plt.bar(class_ids, count)\n",
    "    \n",
    "\n",
    "\n"
   ]
  },
  {
   "cell_type": "code",
   "execution_count": 3,
   "metadata": {
    "collapsed": false,
    "deletable": true,
    "editable": true
   },
   "outputs": [],
   "source": [
    "# this is a trick to get the text-field bound values back to the main dataframe and label_names list\n",
    "# from the slider in the previous cell\n",
    "df = pd.DataFrame(data = json.loads(df_container.value), columns = df.columns.values)\n",
    "label_names = json.loads(label_names_container.value)\n",
    "\n"
   ]
  },
  {
   "cell_type": "code",
   "execution_count": 4,
   "metadata": {
    "collapsed": false,
    "deletable": true,
    "editable": true
   },
   "outputs": [
    {
     "name": "stdout",
     "output_type": "stream",
     "text": [
      "Count of train set:  2664\n",
      "Count of test set:  666\n"
     ]
    }
   ],
   "source": [
    "# training and test sets\n",
    "# shuffling the samples\n",
    "df = df.sample(frac=1)\n",
    "\n",
    "TEST_PROP = 0.2\n",
    "\n",
    "train_set = df.iloc[0: floor(len(df)*(1-TEST_PROP))]\n",
    "test_set = df.iloc[floor(len(df) * (1-TEST_PROP)):]\n",
    "\n",
    "print ('Count of train set: ', len(train_set))\n",
    "print ('Count of test set: ', len(test_set))\n"
   ]
  },
  {
   "cell_type": "code",
   "execution_count": 5,
   "metadata": {
    "collapsed": false,
    "deletable": true,
    "editable": true
   },
   "outputs": [
    {
     "data": {
      "text/plain": [
       "\"\\nitem_count = train_set['ClassId'].value_counts()\\n\\nadjusted_train_set = pd.DataFrame()\\n\\nfor i, class_id in enumerate(class_id_set):\\n    selected = train_set[train_set['ClassId'] == i]\\n    adjusted = selected.sample(n=2000, replace=True)    \\n    adjusted_train_set = pd.concat((adjusted_train_set, adjusted))\\n    \\ntrain_set = adjusted_train_set\\nprint ('Count of adjusted train set:', len(adjusted_train_set))\\n\""
      ]
     },
     "execution_count": 5,
     "metadata": {},
     "output_type": "execute_result"
    }
   ],
   "source": [
    "# adjust item count in train set\n",
    "\"\"\"\n",
    "item_count = train_set['ClassId'].value_counts()\n",
    "\n",
    "adjusted_train_set = pd.DataFrame()\n",
    "\n",
    "for i, class_id in enumerate(class_id_set):\n",
    "    selected = train_set[train_set['ClassId'] == i]\n",
    "    adjusted = selected.sample(n=2000, replace=True)    \n",
    "    adjusted_train_set = pd.concat((adjusted_train_set, adjusted))\n",
    "    \n",
    "train_set = adjusted_train_set\n",
    "print ('Count of adjusted train set:', len(adjusted_train_set))\n",
    "\"\"\""
   ]
  },
  {
   "cell_type": "code",
   "execution_count": 6,
   "metadata": {
    "collapsed": false,
    "deletable": true,
    "editable": true
   },
   "outputs": [
    {
     "name": "stderr",
     "output_type": "stream",
     "text": [
      "/Users/tempflip/.conda/envs/carnd/lib/python3.5/site-packages/skimage/exposure/exposure.py:63: UserWarning: This might be a color image. The histogram will be computed on the flattened image. You can instead apply this function to each color channel.\n",
      "  warn(\"This might be a color image. The histogram will be \"\n"
     ]
    },
    {
     "data": {
      "image/png": "[encoded data removed]",
      "text/plain": [
       "<matplotlib.figure.Figure at 0x11a88bc88>"
      ]
     },
     "metadata": {},
     "output_type": "display_data"
    }
   ],
   "source": [
    "def click_on_button(class_id, norm_hist):\n",
    "    plt.figure(figsize=(20,5))\n",
    "    n = 10\n",
    "    selected = train_set.loc[train_set['ClassId'] == class_id]\n",
    "    for i in range(n):\n",
    "        plt.subplot(1, n, i+1)\n",
    "        img = misc.imresize(misc.imread(selected.iloc[i]['Path'] + selected.iloc[i]['Filename']), (NORM_W, NORM_H))\n",
    "        if norm_hist:\n",
    "            img = exposure.equalize_hist(img)\n",
    "        plt.imshow(img)\n",
    "\n",
    "interact(click_on_button, \n",
    "         class_id={label : class_id for (class_id, label) in enumerate(label_names)},\n",
    "         norm_hist = False\n",
    "        )\n"
   ]
  },
  {
   "cell_type": "code",
   "execution_count": 7,
   "metadata": {
    "collapsed": false,
    "deletable": true,
    "editable": true
   },
   "outputs": [],
   "source": [
    "# the generator\n",
    "def generator(df, batch_size=100):\n",
    "    while 1:\n",
    "        df = df.sample(frac=1)\n",
    "        X, Y = [], []\n",
    "        for i in range(batch_size):\n",
    "            img = misc.imresize(misc.imread(df.iloc[i]['Path'] + df.iloc[i]['Filename']), (NORM_W, NORM_H))\n",
    "            img = exposure.equalize_hist(img)\n",
    "            X.append(img)\n",
    "            Y.append(df.iloc[i]['ClassId'])\n",
    "        enc = preprocessing.LabelBinarizer()\n",
    "        enc.fit(range(len(label_names)))\n",
    "\n",
    "        yield np.float32(X), np.array(enc.transform(Y))\n",
    "        "
   ]
  },
  {
   "cell_type": "code",
   "execution_count": 8,
   "metadata": {
    "collapsed": false,
    "deletable": true,
    "editable": true
   },
   "outputs": [
    {
     "name": "stdout",
     "output_type": "stream",
     "text": [
      "Sample Y: [1 0 0 0 0]\n",
      "Sample X shape: (32, 32, 3)\n"
     ]
    },
    {
     "name": "stderr",
     "output_type": "stream",
     "text": [
      "/Users/tempflip/.conda/envs/carnd/lib/python3.5/site-packages/skimage/exposure/exposure.py:63: UserWarning: This might be a color image. The histogram will be computed on the flattened image. You can instead apply this function to each color channel.\n",
      "  warn(\"This might be a color image. The histogram will be \"\n"
     ]
    }
   ],
   "source": [
    "n = 2\n",
    "test_g = generator(train_set, batch_size = n)\n",
    "\n",
    "X, Y = next(test_g)\n",
    "print ('Sample Y:', Y[0])\n",
    "print ('Sample X shape:', X[0].shape)\n"
   ]
  },
  {
   "cell_type": "code",
   "execution_count": 9,
   "metadata": {
    "collapsed": false,
    "deletable": true,
    "editable": true
   },
   "outputs": [
    {
     "name": "stdout",
     "output_type": "stream",
     "text": [
      "Tensor(\"add_5:0\", shape=(?, 5), dtype=float32)\n"
     ]
    }
   ],
   "source": [
    "model = Sequential()\n",
    "\n",
    "model.add(Convolution2D(32,3,3, input_shape = (32, 32, 3)))\n",
    "model.add(MaxPooling2D((2,2)))\n",
    "model.add(Dropout(0.2))\n",
    "model.add(Activation('relu'))\n",
    "\n",
    "model.add(Convolution2D(64,3,3))\n",
    "model.add(MaxPooling2D((2,2)))\n",
    "model.add(Dropout(0.2))\n",
    "model.add(Activation('relu'))\n",
    "\n",
    "model.add(Convolution2D(128,3,3,))\n",
    "model.add(MaxPooling2D((2,2)))\n",
    "model.add(Dropout(0.2))\n",
    "model.add(Activation('relu'))\n",
    "\n",
    "model.add(Flatten())\n",
    "model.add(Dense(1000))\n",
    "model.add(Dense(100))\n",
    "model.add(Dense(len(label_names)))\n",
    "\n",
    "print (model.output)\n"
   ]
  },
  {
   "cell_type": "code",
   "execution_count": 10,
   "metadata": {
    "collapsed": false,
    "deletable": true,
    "editable": true
   },
   "outputs": [
    {
     "name": "stdout",
     "output_type": "stream",
     "text": [
      "Epoch 1/5\n"
     ]
    },
    {
     "name": "stderr",
     "output_type": "stream",
     "text": [
      "/Users/tempflip/.conda/envs/carnd/lib/python3.5/site-packages/skimage/exposure/exposure.py:63: UserWarning: This might be a color image. The histogram will be computed on the flattened image. You can instead apply this function to each color channel.\n",
      "  warn(\"This might be a color image. The histogram will be \"\n"
     ]
    },
    {
     "name": "stdout",
     "output_type": "stream",
     "text": [
      " 900/1000 [==========================>...] - ETA: 0s - loss: 1.1004 - acc: 0.4633\b\b\b\b\b\b\b\b\b\b\b\b\b\b\b\b\b\b\b\b\b\b\b\b\b\b\b\b\b\b\b\b\b\b\b\b\b\b\b\b\b\b\b\b\b\b\b\b\b\b\b\b\b\b\b\b\b\b\b\b\b\b\b\b\b\b\b\b\b\b\b\b\b\b\b\b\b\b\b\b\b\b\b\b\b\b\b\b\b\b\b\b\b\b\b\b\b\b\b\b\b\b\b\b\b\b\b\b\b\b\b\b\b\b\b\b\b\b\b\b\b\b\b\b\b\b\b\b\b\b\b\b\b\b\b\b\b\b\b\b\b\b\b\b\b\b\b\b\b\b\b\b\b\b\b\b\b\b\b\b\b\b"
     ]
    },
    {
     "name": "stderr",
     "output_type": "stream",
     "text": [
      "/Users/tempflip/.conda/envs/carnd/lib/python3.5/site-packages/keras/engine/training.py:1573: UserWarning: Epoch comprised more than `samples_per_epoch` samples, which might affect learning results. Set `samples_per_epoch` correctly to avoid this warning.\n",
      "  warnings.warn('Epoch comprised more than '\n"
     ]
    },
    {
     "name": "stdout",
     "output_type": "stream",
     "text": [
      "1200/1000 [====================================] - 7s - loss: 0.8948 - acc: 0.3675 - val_loss: 0.2726 - val_acc: 0.0600\n",
      "Epoch 2/5\n",
      "1200/1000 [====================================] - 3s - loss: 0.3266 - acc: 0.0875 - val_loss: 0.1922 - val_acc: 0.1833\b\b\b\b\b\b\b\b\b\b\b\b\b\b\b\b\b\b\b\b\b\b\b\b\b\b\b\b\b\b\b\b\b\b\b\b\b\b\b\b\b\b\b\b\b\b\b\b\b\b\b\b\b\b\b\b\b\b\b\b\b\b\b\b\b\b\b\b\b\b\b\b\b\b\b\b\b\b\b\b\b\b\b\b\b\b\b\b\b\b\b\b\b\b\b\b\b\b\b\b\b\b\b\b\b\b\b\b\b\b\b\b\b\b\b\b\b\b\b\b\b\b\b\b\b\b\b\b\b\b\b\b\b\b\b\b\b\b\b\b\b\b\b\b\b\b\b\b\b\b\b\b\b\b\b\b\b\b\b\b\b\b\b\b\b\b\b\b\b\b\b\b\b\b\b\b\b\b\b\b\b\b\b\b\b\b\b\b\b\b\b\b\b\b\b\b\b\b\b\b\b\b\b\b\b\n",
      "Epoch 3/5\n",
      "1200/1000 [====================================] - 3s - loss: 0.1802 - acc: 0.4083 - val_loss: 0.1531 - val_acc: 0.6000\b\b\b\b\b\b\b\b\b\b\b\b\b\b\b\b\b\b\b\b\b\b\b\b\b\b\b\b\b\b\b\b\b\b\b\b\b\b\b\b\b\b\b\b\b\b\b\b\b\b\b\b\b\b\b\b\b\b\b\b\b\b\b\b\b\b\b\b\b\b\b\b\b\b\b\b\b\b\b\b\b\b\b\b\b\b\b\b\b\b\b\b\b\b\b\b\b\b\b\b\b\b\b\b\b\b\b\b\b\b\b\b\b\b\b\b\b\b\b\b\b\b\b\b\b\b\b\b\b\b\b\b\b\b\b\b\b\b\b\b\b\b\b\b\b\b\b\b\b\b\b\b\b\b\b\b\b\b\b\b\b\b\b\b\b\b\b\b\b\b\b\b\b\b\b\b\b\b\b\b\b\b\b\b\b\b\b\b\b\b\b\b\b\b\b\b\b\b\b\b\b\b\b\b\b\n",
      "Epoch 4/5\n",
      "1200/1000 [====================================] - 4s - loss: 0.1217 - acc: 0.6783 - val_loss: 0.1109 - val_acc: 0.6367\b\b\b\b\b\b\b\b\b\b\b\b\b\b\b\b\b\b\b\b\b\b\b\b\b\b\b\b\b\b\b\b\b\b\b\b\b\b\b\b\b\b\b\b\b\b\b\b\b\b\b\b\b\b\b\b\b\b\b\b\b\b\b\b\b\b\b\b\b\b\b\b\b\b\b\b\b\b\b\b\b\b\b\b\b\b\b\b\b\b\b\b\b\b\b\b\b\b\b\b\b\b\b\b\b\b\b\b\b\b\b\b\b\b\b\b\b\b\b\b\b\b\b\b\b\b\b\b\b\b\b\b\b\b\b\b\b\b\b\b\b\b\b\b\b\b\b\b\b\b\b\b\b\b\b\b\b\b\b\b\b\b\b\b\b\b\b\b\b\b\b\b\b\b\b\b\b\b\b\b\b\b\b\b\b\b\b\b\b\b\b\b\b\b\b\b\b\b\b\b\b\b\b\b\b\n",
      "Epoch 5/5\n",
      "1200/1000 [====================================] - 4s - loss: 0.1232 - acc: 0.6508 - val_loss: 0.1199 - val_acc: 0.6567\b\b\b\b\b\b\b\b\b\b\b\b\b\b\b\b\b\b\b\b\b\b\b\b\b\b\b\b\b\b\b\b\b\b\b\b\b\b\b\b\b\b\b\b\b\b\b\b\b\b\b\b\b\b\b\b\b\b\b\b\b\b\b\b\b\b\b\b\b\b\b\b\b\b\b\b\b\b\b\b\b\b\b\b\b\b\b\b\b\b\b\b\b\b\b\b\b\b\b\b\b\b\b\b\b\b\b\b\b\b\b\b\b\b\b\b\b\b\b\b\b\b\b\b\b\b\b\b\b\b\b\b\b\b\b\b\b\b\b\b\b\b\b\b\b\b\b\b\b\b\b\b\b\b\b\b\b\b\b\b\b\b\b\b\b\b\b\b\b\b\b\b\b\b\b\b\b\b\b\b\b\b\b\b\b\b\b\b\b\b\b\b\b\b\b\b\b\b\b\b\b\b\b\b\b\n"
     ]
    }
   ],
   "source": [
    "gen = generator(train_set, batch_size=300)\n",
    "val_gen = generator(train_set, batch_size=300)\n",
    "\n",
    "model.compile(optimizer='adam', loss='mse', metrics=['accuracy'])\n",
    "history = model.fit_generator(gen, samples_per_epoch=1000, nb_epoch=5, validation_data=val_gen, nb_val_samples=300)\n",
    "\n"
   ]
  },
  {
   "cell_type": "code",
   "execution_count": 11,
   "metadata": {
    "collapsed": false,
    "deletable": true,
    "editable": true
   },
   "outputs": [
    {
     "data": {
      "text/plain": [
       "<matplotlib.legend.Legend at 0x11b659470>"
      ]
     },
     "execution_count": 11,
     "metadata": {},
     "output_type": "execute_result"
    },
    {
     "data": {
      "image/png": "[encoded data removed]",
      "text/plain": [
       "<matplotlib.figure.Figure at 0x11b94e208>"
      ]
     },
     "metadata": {},
     "output_type": "display_data"
    }
   ],
   "source": [
    "plt.figure(figsize=(15,5))\n",
    "plt.subplot(1,2,1)\n",
    "plt.plot(history.history['acc'], label='Accuracy')\n",
    "plt.plot(history.history['val_acc'], label='Val.Accuracy')\n",
    "plt.legend()\n",
    "plt.subplot(1,2,2)\n",
    "plt.plot(history.history['loss'], label='Loss')\n",
    "plt.plot(history.history['val_loss'], label='Val.Loss')\n",
    "plt.legend()"
   ]
  },
  {
   "cell_type": "code",
   "execution_count": 12,
   "metadata": {
    "collapsed": false,
    "deletable": true,
    "editable": true
   },
   "outputs": [
    {
     "name": "stderr",
     "output_type": "stream",
     "text": [
      "/Users/tempflip/.conda/envs/carnd/lib/python3.5/site-packages/skimage/exposure/exposure.py:63: UserWarning: This might be a color image. The histogram will be computed on the flattened image. You can instead apply this function to each color channel.\n",
      "  warn(\"This might be a color image. The histogram will be \"\n"
     ]
    },
    {
     "name": "stdout",
     "output_type": "stream",
     "text": [
      "Matches: 329 of 500; 65.8 %\n"
     ]
    }
   ],
   "source": [
    "# test\n",
    "\n",
    "TEST_SIZE = 500\n",
    "def softmax(x):\n",
    "    e_x = np.exp(x - np.max(x))\n",
    "    return e_x / e_x.sum(axis=0) # only difference\n",
    "\n",
    "pr_get = generator(test_set, batch_size=TEST_SIZE)\n",
    "X, Y = next(pr_get)\n",
    "\n",
    "pr = model.predict(X)\n",
    "\n",
    "pred_labels = np.argmax(pr, axis=1)\n",
    "truth = np.argmax(Y, axis=1)\n",
    "\n",
    "match_ratio = sum(pred_labels == truth)\n",
    "print ('Matches: {} of {}; {} %'.format( match_ratio, TEST_SIZE, match_ratio / TEST_SIZE * 100) )\n"
   ]
  },
  {
   "cell_type": "code",
   "execution_count": 13,
   "metadata": {
    "collapsed": true,
    "deletable": true,
    "editable": true
   },
   "outputs": [],
   "source": [
    "#saving the model\n",
    "model.save('./demo_model_45pr.h5')"
   ]
  },
  {
   "cell_type": "code",
   "execution_count": 15,
   "metadata": {
    "collapsed": false,
    "deletable": true,
    "editable": true
   },
   "outputs": [
    {
     "name": "stdout",
     "output_type": "stream",
     "text": [
      "[[ 0.39868751  0.02986675  0.15757261  0.06102402  0.095198  ]\n",
      " [ 0.36025307  0.01746542  0.1301153   0.04729665  0.09187614]\n",
      " [ 0.42150283  0.04008294  0.15201902  0.07764393  0.10730849]\n",
      " [ 0.39999667  0.04925423  0.15854825  0.07784715  0.09263647]\n",
      " [ 0.35302439  0.03736242  0.12745737  0.06097384  0.06933778]]\n"
     ]
    },
    {
     "name": "stderr",
     "output_type": "stream",
     "text": [
      "/Users/tempflip/.conda/envs/carnd/lib/python3.5/site-packages/skimage/exposure/exposure.py:63: UserWarning: This might be a color image. The histogram will be computed on the flattened image. You can instead apply this function to each color channel.\n",
      "  warn(\"This might be a color image. The histogram will be \"\n"
     ]
    }
   ],
   "source": [
    "@interact(model_name=['./demo_model_45pr.h5'], batch_size=5, n_best=3)\n",
    "def vis_test(model_name, batch_size, n_best):\n",
    "    m = load_model(model_name)\n",
    "    gen = generator(test_set, batch_size = batch_size)\n",
    "    X, Y = next(gen)\n",
    "    pr = m.predict(X)\n",
    "    print(pr)\n",
    "    \n"
   ]
  },
  {
   "cell_type": "code",
   "execution_count": 20,
   "metadata": {
    "collapsed": false,
    "deletable": true,
    "editable": true
   },
   "outputs": [
    {
     "ename": "ImportError",
     "evalue": "No module named 'pydot'",
     "output_type": "error",
     "traceback": [
      "\u001b[0;31m---------------------------------------------------------------------------\u001b[0m",
      "\u001b[0;31mImportError\u001b[0m                               Traceback (most recent call last)",
      "\u001b[0;32m/Users/tempflip/.conda/envs/carnd/lib/python3.5/site-packages/keras/utils/visualize_util.py\u001b[0m in \u001b[0;36m<module>\u001b[0;34m()\u001b[0m\n\u001b[1;32m      8\u001b[0m     \u001b[0;31m# pydot-ng is a fork of pydot that is better maintained.\u001b[0m\u001b[0;34m\u001b[0m\u001b[0;34m\u001b[0m\u001b[0m\n\u001b[0;32m----> 9\u001b[0;31m     \u001b[0;32mimport\u001b[0m \u001b[0mpydot_ng\u001b[0m \u001b[0;32mas\u001b[0m \u001b[0mpydot\u001b[0m\u001b[0;34m\u001b[0m\u001b[0m\n\u001b[0m\u001b[1;32m     10\u001b[0m \u001b[0;32mexcept\u001b[0m \u001b[0mImportError\u001b[0m\u001b[0;34m:\u001b[0m\u001b[0;34m\u001b[0m\u001b[0m\n",
      "\u001b[0;31mImportError\u001b[0m: No module named 'pydot_ng'",
      "\nDuring handling of the above exception, another exception occurred:\n",
      "\u001b[0;31mImportError\u001b[0m                               Traceback (most recent call last)",
      "\u001b[0;32m<ipython-input-20-d40674e76f14>\u001b[0m in \u001b[0;36m<module>\u001b[0;34m()\u001b[0m\n\u001b[1;32m      1\u001b[0m \u001b[0;32mfrom\u001b[0m \u001b[0mIPython\u001b[0m\u001b[0;34m.\u001b[0m\u001b[0mdisplay\u001b[0m \u001b[0;32mimport\u001b[0m \u001b[0mSVG\u001b[0m\u001b[0;34m\u001b[0m\u001b[0m\n\u001b[1;32m      2\u001b[0m \u001b[0;31m#from keras.utils.vis_utils import model_to_dot\u001b[0m\u001b[0;34m\u001b[0m\u001b[0;34m\u001b[0m\u001b[0m\n\u001b[0;32m----> 3\u001b[0;31m \u001b[0;32mfrom\u001b[0m \u001b[0mkeras\u001b[0m\u001b[0;34m.\u001b[0m\u001b[0mutils\u001b[0m\u001b[0;34m.\u001b[0m\u001b[0mvisualize_util\u001b[0m \u001b[0;32mimport\u001b[0m \u001b[0mplot\u001b[0m\u001b[0;34m\u001b[0m\u001b[0m\n\u001b[0m\u001b[1;32m      4\u001b[0m \u001b[0;34m\u001b[0m\u001b[0m\n\u001b[1;32m      5\u001b[0m \u001b[0;31m#SVG(model_to_dot(model).create(prog='dot', format='svg'))\u001b[0m\u001b[0;34m\u001b[0m\u001b[0;34m\u001b[0m\u001b[0m\n",
      "\u001b[0;32m/Users/tempflip/.conda/envs/carnd/lib/python3.5/site-packages/keras/utils/visualize_util.py\u001b[0m in \u001b[0;36m<module>\u001b[0;34m()\u001b[0m\n\u001b[1;32m     10\u001b[0m \u001b[0;32mexcept\u001b[0m \u001b[0mImportError\u001b[0m\u001b[0;34m:\u001b[0m\u001b[0;34m\u001b[0m\u001b[0m\n\u001b[1;32m     11\u001b[0m     \u001b[0;31m# Fall back on pydot if necessary.\u001b[0m\u001b[0;34m\u001b[0m\u001b[0;34m\u001b[0m\u001b[0m\n\u001b[0;32m---> 12\u001b[0;31m     \u001b[0;32mimport\u001b[0m \u001b[0mpydot\u001b[0m\u001b[0;34m\u001b[0m\u001b[0m\n\u001b[0m\u001b[1;32m     13\u001b[0m \u001b[0;32mif\u001b[0m \u001b[0;32mnot\u001b[0m \u001b[0mpydot\u001b[0m\u001b[0;34m.\u001b[0m\u001b[0mfind_graphviz\u001b[0m\u001b[0;34m(\u001b[0m\u001b[0;34m)\u001b[0m\u001b[0;34m:\u001b[0m\u001b[0;34m\u001b[0m\u001b[0m\n\u001b[1;32m     14\u001b[0m     raise ImportError('Failed to import pydot. You must install pydot'\n",
      "\u001b[0;31mImportError\u001b[0m: No module named 'pydot'"
     ]
    }
   ],
   "source": [
    "from IPython.display import SVG\n",
    "#from keras.utils.vis_utils import model_to_dot\n",
    "from keras.utils.visualize_util import plot\n",
    "\n",
    "#SVG(model_to_dot(model).create(prog='dot', format='svg'))"
   ]
  },
  {
   "cell_type": "code",
   "execution_count": null,
   "metadata": {
    "collapsed": true
   },
   "outputs": [],
   "source": []
  }
 ],
 "metadata": {
  "kernelspec": {
   "display_name": "Python 3",
   "language": "python",
   "name": "python3"
  },
  "language_info": {
   "codemirror_mode": {
    "name": "ipython",
    "version": 3
   },
   "file_extension": ".py",
   "mimetype": "text/x-python",
   "name": "python",
   "nbconvert_exporter": "python",
   "pygments_lexer": "ipython3",
   "version": "3.5.2"
  },
  "widgets": {
   "state": {
    "04b91cacce384bb88f8f59ca1c7b5668": {
     "views": []
    },
    "13bcede9ed554dd59e3db2420bc8bf56": {
     "views": [
      {
       "cell_index": 5
      }
     ]
    },
    "1856632234a742b79a83ade79da1b780": {
     "views": []
    },
    "1b32cad3b60e46c28240619efa21b573": {
     "views": []
    },
    "2b045a1e8bcb443ca2a01ee90ff1f78d": {
     "views": []
    },
    "2f84387d76e640329b7a8af827a684c1": {
     "views": []
    },
    "313d74d3af8f4a7e8dc811b715dd31b1": {
     "views": []
    },
    "3348ea90aef743ed9fd0af4b289264eb": {
     "views": []
    },
    "349c1570350146248221ee7021e41f5a": {
     "views": []
    },
    "64bcd5df1bd64681b386ec27792dd2fd": {
     "views": []
    },
    "6e558af2ec3744d5bbff1b4b1039575f": {
     "views": []
    },
    "6e801933fdd84217966bbc79057e4fef": {
     "views": []
    },
    "7000d0a91318418fb8813546c56675b4": {
     "views": []
    },
    "70216415fb3a4cec8b52e4eb7873a9aa": {
     "views": []
    },
    "8dc6e02bc79e40f79c71ed001aaebf2a": {
     "views": []
    },
    "90e5bad9b6a44f11b5982dff44965041": {
     "views": []
    },
    "9ed1b8b2c57a4c4abe99457da600229a": {
     "views": []
    },
    "9f8a897c2dcf4465a2a5bf14a183d6cc": {
     "views": []
    },
    "b90e95360ac6467d8b0f5b985778934b": {
     "views": []
    },
    "b9d9cbd3b16c4a81b47637b23d120b6b": {
     "views": []
    },
    "baa2c55e813c40c280cdcab1472be930": {
     "views": []
    },
    "e25156228c034f9989f2e89856c89455": {
     "views": [
      {
       "cell_index": 1
      }
     ]
    },
    "e26c0436c9644d55bd37276838f2f85d": {
     "views": []
    },
    "e37038afb81141b893cb9c72eef8e1a8": {
     "views": []
    },
    "e3c9a039ac8c4097847bd3ecb5279785": {
     "views": []
    },
    "e85e8b3e901a4da4b3b9d704507c8b5f": {
     "views": []
    },
    "eb513a178a3a41269198ad9b9108efbb": {
     "views": []
    },
    "f1bd03f53c424d0f860912b798acd57b": {
     "views": [
      {
       "cell_index": 13
      }
     ]
    },
    "fcd80a8f003c4866a872d0a6944aa84e": {
     "views": []
    },
    "fdeb2661fc944086999bf3e58cfa1c21": {
     "views": []
    }
   },
   "version": "1.1.2"
  }
 },
 "nbformat": 4,
 "nbformat_minor": 2
}
